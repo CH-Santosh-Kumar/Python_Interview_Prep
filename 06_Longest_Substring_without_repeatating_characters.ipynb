{
 "cells": [
  {
   "cell_type": "markdown",
   "metadata": {},
   "source": [
    "# Problem 06 Longest Substring Without Repeating Characters\n",
    "### Given a string s, find the length of the longest substring without repeating characters.\n",
    "\n",
    "### Leetcode Link: https://leetcode.com/problems/longest-substring-without-repeating-characters/description/"
   ]
  },
  {
   "cell_type": "code",
   "execution_count": 11,
   "metadata": {},
   "outputs": [
    {
     "name": "stdout",
     "output_type": "stream",
     "text": [
      "a\n"
     ]
    },
    {
     "data": {
      "text/plain": [
       "2"
      ]
     },
     "execution_count": 11,
     "metadata": {},
     "output_type": "execute_result"
    }
   ],
   "source": [
    "def lengthOfLongestSubstring(s):\n",
    "\n",
    "    \"\"\"\n",
    "    we need to return the length of longest longest substring without duplicates.\n",
    "    We could use two pointers for this. Using two pointers we will create substring till each character\n",
    "    in substring has unique value then save the length of substring in a variable. This process will be repeated till end of list\n",
    "\n",
    "    input :  String \n",
    "    output: int\n",
    "\n",
    "    Worst case scenario over here could be O(n2), which is not optimal. Lets work on another way to solve this.\n",
    "    \"\"\"\n",
    "    n = len(s)\n",
    "    subString = s[0] if n >= 1 else ''\n",
    "    maxSubstring = 0 if n == 0 else 1\n",
    "    i = 0\n",
    "    j = 1\n",
    "    while j < n:\n",
    "        if s[j] not in subString:\n",
    "            subString = s[i:j+1]\n",
    "        else:\n",
    "            maxSubstring = max(maxSubstring,len(subString))\n",
    "            i += 1\n",
    "            j = i\n",
    "            subString = s[j]\n",
    "        j+=1\n",
    "    maxSubstring = max(maxSubstring,len(subString))\n",
    "    return maxSubstring\n",
    "s = \"au\"\n",
    "\n",
    "lengthOfLongestSubstring(s)"
   ]
  },
  {
   "cell_type": "markdown",
   "metadata": {},
   "source": [
    "## Sliding window Technique"
   ]
  },
  {
   "cell_type": "code",
   "execution_count": 17,
   "metadata": {},
   "outputs": [
    {
     "data": {
      "text/plain": [
       "3"
      ]
     },
     "execution_count": 17,
     "metadata": {},
     "output_type": "execute_result"
    }
   ],
   "source": [
    "def lengthOfLongestSubstring(s):\n",
    "\n",
    "    \"\"\"\n",
    "    Another way of addressing the problem is by using sliding window technique.\n",
    "    we will add each character to a set using forloop while verifying if that character is already available in set.\n",
    "    If character is already avaialable we will increment our left pointer unless our set becomes unique \n",
    "\n",
    "    input :  String \n",
    "    output: int\n",
    "    Using this technique our time complexity would be O(n) because we are iterating through list only Once\n",
    "    \"\"\"\n",
    "    n = len(s)\n",
    "    stringSet = set()\n",
    "    maxSubstring = 0\n",
    "    l = 0\n",
    "\n",
    "    for r in range(n):\n",
    "        while s[r] in stringSet:\n",
    "            stringSet.remove(s[l])\n",
    "            l+=1\n",
    "        stringSet.add(s[r])\n",
    "        maxSubstring = max(maxSubstring,r-l+1)\n",
    "    return maxSubstring\n",
    "s = \"abcabcbb\"\n",
    "\n",
    "lengthOfLongestSubstring(s)"
   ]
  }
 ],
 "metadata": {
  "kernelspec": {
   "display_name": "HackerRank",
   "language": "python",
   "name": "python3"
  },
  "language_info": {
   "codemirror_mode": {
    "name": "ipython",
    "version": 3
   },
   "file_extension": ".py",
   "mimetype": "text/x-python",
   "name": "python",
   "nbconvert_exporter": "python",
   "pygments_lexer": "ipython3",
   "version": "3.8.8"
  }
 },
 "nbformat": 4,
 "nbformat_minor": 2
}
