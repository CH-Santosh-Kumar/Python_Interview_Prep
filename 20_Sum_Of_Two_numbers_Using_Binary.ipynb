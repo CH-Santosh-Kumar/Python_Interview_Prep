{
 "cells": [
  {
   "cell_type": "markdown",
   "metadata": {},
   "source": [
    "# Problem 20: Sum of Two Integers\n",
    "### Given two integers a and b, return the sum of the two integers without using the operators + and -.\n",
    "\n",
    "## LeetCode URL: https://leetcode.com/problems/sum-of-two-integers/description/"
   ]
  },
  {
   "cell_type": "code",
   "execution_count": 6,
   "metadata": {},
   "outputs": [
    {
     "data": {
      "text/plain": [
       "2"
      ]
     },
     "execution_count": 6,
     "metadata": {},
     "output_type": "execute_result"
    }
   ],
   "source": [
    "def getSum(a,b):\n",
    "    '''\n",
    "    We will be using bitwise operators to perform addition as we are not supposed to use + or -\n",
    "    basically as part of addition of 1,0 or 0,1 output is 1 and when we add 0,0 output is 0 which could\n",
    "    be achieved using XOR operator. As XOR states if either or operands have 1 the result would be 1 else 0\n",
    "\n",
    "    Now coming to 1,1 which should yield 0 and a carry of 1. We have &(and) operator which results in 1 which is \n",
    "    when shifted to left will act as a carry. so if we have 01 01 and we use & we will get 10 (1 shifter to left)\n",
    "    Combining these two operatons we could sum two numbers.\n",
    "\n",
    "    For this question leetcode uses 32 bits, so you just need to create a 32 bit mask of 1's , \n",
    "    the quickest way is to use hexadecimal and 0xffffffff, you can write the binary form if you \n",
    "    prefer it will work the same.\n",
    "\n",
    "    Args: \n",
    "    a. int\n",
    "    b. int\n",
    "\n",
    "    Output:\n",
    "    Int\n",
    "    '''\n",
    "    while b!=0:\n",
    "        carry = a&b\n",
    "        a = a^b\n",
    "        b = carry<<1\n",
    "\n",
    "    return a\n",
    "a = 1\n",
    "b = 1\n",
    "\n",
    "getSum(a,b)"
   ]
  },
  {
   "cell_type": "code",
   "execution_count": null,
   "metadata": {},
   "outputs": [],
   "source": []
  }
 ],
 "metadata": {
  "kernelspec": {
   "display_name": "HackerRank",
   "language": "python",
   "name": "python3"
  },
  "language_info": {
   "codemirror_mode": {
    "name": "ipython",
    "version": 3
   },
   "file_extension": ".py",
   "mimetype": "text/x-python",
   "name": "python",
   "nbconvert_exporter": "python",
   "pygments_lexer": "ipython3",
   "version": "3.8.8"
  }
 },
 "nbformat": 4,
 "nbformat_minor": 2
}
