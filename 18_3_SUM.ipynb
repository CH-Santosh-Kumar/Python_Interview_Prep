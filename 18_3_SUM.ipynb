{
 "cells": [
  {
   "cell_type": "markdown",
   "metadata": {},
   "source": [
    "# Problem 3SUM\n",
    "### Given an integer array nums, return all the triplets [nums[i], nums[j], nums[k]] such that i != j, i != k, and j != k, and nums[i] + nums[j] + nums[k] == 0.\n",
    "### Notice that the solution set must not contain duplicate triplets.\n",
    "\n",
    "## LeetCode URL: https://leetcode.com/problems/3sum/description/"
   ]
  },
  {
   "cell_type": "code",
   "execution_count": 10,
   "metadata": {},
   "outputs": [
    {
     "data": {
      "text/plain": [
       "[[-1, 0, 1], [-1, -1, 2]]"
      ]
     },
     "execution_count": 10,
     "metadata": {},
     "output_type": "execute_result"
    }
   ],
   "source": [
    "def threesum(nums):\n",
    "    # Brute Force\n",
    "    res = []\n",
    "    for i in range(len(nums)):\n",
    "        for j in range(1,len(nums)):\n",
    "            for k in range(2,len(nums)):\n",
    "                if i != j and i != k and j != k:\n",
    "                    if nums[i]+nums[j]+nums[k] == 0:\n",
    "                        v = sorted([nums[i],nums[j],nums[k]])\n",
    "                        if v not in res:\n",
    "                            res.append(v)\n",
    "    return res\n",
    "\n",
    "nums = [-1,0,1,2,-1,-4]\n",
    "# Index should be different and sum should be 0\n",
    "\n",
    "threesum(nums)"
   ]
  },
  {
   "cell_type": "code",
   "execution_count": 18,
   "metadata": {},
   "outputs": [
    {
     "data": {
      "text/plain": [
       "[[-1, -1, 2], [-1, 0, 1]]"
      ]
     },
     "execution_count": 18,
     "metadata": {},
     "output_type": "execute_result"
    }
   ],
   "source": [
    "def threesum(nums):\n",
    "\n",
    "    \"\"\"\n",
    "    As the brute force approach is taking n^3 time to execute the code. We want to find a better approach for this.\n",
    "    If we want to find three numbers from a list where sum of three numbers are 0, we could first fix the first number lets say -1.\n",
    "    Now we onmly have to find two numbers and we could use our approach to solve two sum probvlem. But First we have to sirt the given list.\n",
    "    then only we could identify duplicates and check if our sum is greater then or less then 0 and accordingly \n",
    "    increment or decrement our pointers.\n",
    "\n",
    "    We have a if condition to check if we are using duplicate values as our first number.\n",
    "    Then we are using two pointers left and right and adding the three to check if it is greater then 0 or less then 0.\n",
    "    Because the list is sorted we knoe that larget elements are at right and smaller elements are at bottom.\n",
    "\n",
    "    input: list\n",
    "    Output: list\n",
    "\n",
    "    Time Complexity: O(n2) Because we have two loops inside our method\n",
    "    \n",
    "\n",
    "    \"\"\"\n",
    "    nums.sort()\n",
    "    res = []\n",
    "\n",
    "    for i,a in enumerate(nums):\n",
    "\n",
    "        if i > 0 and a == nums[i-1]:\n",
    "            continue\n",
    "\n",
    "        l = i + 1\n",
    "        r = len(nums)-1\n",
    "\n",
    "        while l < r:\n",
    "            threeSum = a + nums[l] + nums[r]\n",
    "\n",
    "            if threeSum > 0 :\n",
    "                r -= 1\n",
    "            \n",
    "            elif threeSum < 0:\n",
    "                l+= 1\n",
    "        \n",
    "            else:\n",
    "                res.append([a,nums[l],nums[r]])\n",
    "                l+=1\n",
    "\n",
    "                while nums[l] == nums[l-1] and l < r:\n",
    "                    l += 1\n",
    "    return res\n",
    "\n",
    "\n",
    "nums = [-1,0,1,2,-1,-4]\n",
    "# Index should be different and sum should be 0\n",
    "\n",
    "threesum(nums)"
   ]
  },
  {
   "cell_type": "code",
   "execution_count": null,
   "metadata": {},
   "outputs": [],
   "source": []
  }
 ],
 "metadata": {
  "kernelspec": {
   "display_name": "HackerRank",
   "language": "python",
   "name": "python3"
  },
  "language_info": {
   "codemirror_mode": {
    "name": "ipython",
    "version": 3
   },
   "file_extension": ".py",
   "mimetype": "text/x-python",
   "name": "python",
   "nbconvert_exporter": "python",
   "pygments_lexer": "ipython3",
   "version": "3.8.8"
  }
 },
 "nbformat": 4,
 "nbformat_minor": 2
}
