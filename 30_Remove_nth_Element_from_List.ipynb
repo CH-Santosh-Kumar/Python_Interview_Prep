{
 "cells": [
  {
   "cell_type": "markdown",
   "metadata": {},
   "source": [
    "# Problem 30: Remove Nth Node from end of list and return its head\n",
    "### Given the head of a linked list, remove the nth node from the end of the list and return its head.\n",
    "\n",
    "## LeetCode URL: https://leetcode.com/problems/remove-nth-node-from-end-of-list/description/"
   ]
  },
  {
   "cell_type": "code",
   "execution_count": 17,
   "metadata": {},
   "outputs": [
    {
     "name": "stdout",
     "output_type": "stream",
     "text": [
      "1 3 5 8 "
     ]
    }
   ],
   "source": [
    "class LinkedList:\n",
    "\n",
    "    '''\n",
    "    Title: Creating a linked list\n",
    "    Below code creates a linked list. we have created two methods one is linked list and another is Node\n",
    "    the we are manually creating five elements.\n",
    "    Then we are printing the elements using printlist method created in class.\n",
    "    '''\n",
    "\n",
    "    def __init__(self,val):\n",
    "        self.head = val\n",
    "    \n",
    "    def _printList(self):\n",
    "        temp = self.head\n",
    "        while temp:\n",
    "            print(temp.node,end=\" \")\n",
    "            temp = temp.next\n",
    "\n",
    "class Node:\n",
    "\n",
    "    def __init__(self,val):\n",
    "        self.node = val\n",
    "        self.next = None\n",
    "\n",
    "\n",
    "if __name__ == '__main__':\n",
    "\n",
    "    first = Node(1)\n",
    "    second = Node(2)\n",
    "    third = Node(3)\n",
    "    fourth = Node(4)\n",
    "    fifth = Node(5)\n",
    "    sixth = Node(6)\n",
    "    seven = Node(7)\n",
    "    eight = Node(8)\n",
    "    nine = Node(9)\n",
    "    tenth = Node(10)\n",
    "    eleventh = Node(11)\n",
    "    twelth = Node(12)\n",
    "    thirteenth = Node(13)\n",
    "\n",
    "    first.next = third\n",
    "    third.next = fifth\n",
    "    fifth.next = eight\n",
    "\n",
    "    second.next = fourth\n",
    "    fourth.next = sixth\n",
    "    sixth.next = seven\n",
    "    seven.next = nine\n",
    "\n",
    "    tenth.next = eleventh\n",
    "    eleventh.next = twelth\n",
    "    twelth.next = thirteenth\n",
    "\n",
    "\n",
    "    # Sorted List 1\n",
    "    ll = LinkedList(first)\n",
    "\n",
    "    # Sorted List 2\n",
    "    mm = LinkedList(second)\n",
    "\n",
    "    # Sorted List 3\n",
    "    nn = LinkedList(tenth)\n",
    "\n",
    "    \n",
    "ll._printList()"
   ]
  },
  {
   "cell_type": "code",
   "execution_count": 18,
   "metadata": {},
   "outputs": [
    {
     "name": "stdout",
     "output_type": "stream",
     "text": [
      "1 3 8 "
     ]
    }
   ],
   "source": [
    "\n",
    "def removeNthFromEnd(head,n):\n",
    "\n",
    "    '''\n",
    "    Here we are using two pointer approach to solve the question where we want to remove a node from back of list.\n",
    "    our left pointer will start from one space before head and right will start at nth space after head.\n",
    "    now we will move both left and right. Once right reaches the end, we know that left is exactly at a node behind the\n",
    "    node we want to delete.\n",
    "    Args:\n",
    "    Linked list\n",
    "    Output\n",
    "    Linked List\n",
    "    '''\n",
    "\n",
    "    dummy = Node(float('inf'))\n",
    "    dummy.next = head\n",
    "\n",
    "    left = dummy\n",
    "    temp = head\n",
    "    \n",
    "    while n > 0:\n",
    "        temp= temp.next\n",
    "        n-=1\n",
    "        \n",
    "    right = temp\n",
    "\n",
    "    while right:\n",
    "        left = left.next\n",
    "        right = right.next\n",
    "    \n",
    "    left.next = left.next.next\n",
    "\n",
    "    return dummy.next\n",
    "\n",
    "\n",
    "\n",
    "temp = removeNthFromEnd(ll.head,2)\n",
    "\n",
    "while temp:\n",
    "    print(temp.node,end=\" \")\n",
    "    temp = temp.next"
   ]
  },
  {
   "cell_type": "code",
   "execution_count": null,
   "metadata": {},
   "outputs": [],
   "source": []
  }
 ],
 "metadata": {
  "kernelspec": {
   "display_name": "HackerRank",
   "language": "python",
   "name": "python3"
  },
  "language_info": {
   "codemirror_mode": {
    "name": "ipython",
    "version": 3
   },
   "file_extension": ".py",
   "mimetype": "text/x-python",
   "name": "python",
   "nbconvert_exporter": "python",
   "pygments_lexer": "ipython3",
   "version": "3.8.8"
  }
 },
 "nbformat": 4,
 "nbformat_minor": 2
}
