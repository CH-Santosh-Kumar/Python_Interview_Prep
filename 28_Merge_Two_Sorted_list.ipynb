{
 "cells": [
  {
   "cell_type": "markdown",
   "metadata": {},
   "source": [
    "# Problem : Merge Two Sorted Lists\n",
    "### You are given the heads of two sorted linked lists list1 and list2. Merge the two lists into one sorted list. The list should be made by splicing together the nodes of the first two lists.Return the head of the merged linked list.\n",
    "\n",
    "## https://leetcode.com/problems/merge-two-sorted-lists/description/"
   ]
  },
  {
   "cell_type": "code",
   "execution_count": 10,
   "metadata": {},
   "outputs": [
    {
     "data": {
      "text/plain": [
       "1"
      ]
     },
     "execution_count": 10,
     "metadata": {},
     "output_type": "execute_result"
    }
   ],
   "source": [
    "class LinkedList:\n",
    "\n",
    "    '''\n",
    "    Title: Creating a linked list\n",
    "    Below code creates a linked list. we have created two methods one is linked list and another is Node\n",
    "    the we are manually creating five elements.\n",
    "    Then we are printing the elements using printlist method created in class.\n",
    "    '''\n",
    "\n",
    "    def __init__(self,val):\n",
    "        self.head = val\n",
    "    \n",
    "    def _printList(self):\n",
    "        temp = self.head\n",
    "        while temp:\n",
    "            print(temp.node,end=\" \")\n",
    "            temp = temp.next\n",
    "\n",
    "class Node:\n",
    "\n",
    "    def __init__(self,val):\n",
    "        self.node = val\n",
    "        self.next = None\n",
    "\n",
    "\n",
    "if __name__ == '__main__':\n",
    "\n",
    "    first = Node(1)\n",
    "    second = Node(2)\n",
    "    third = Node(3)\n",
    "    fourth = Node(4)\n",
    "    fifth = Node(5)\n",
    "    sixth = Node(6)\n",
    "    seven = Node(7)\n",
    "    eight = Node(8)\n",
    "    nine = Node(9)\n",
    "\n",
    "    first.next = third\n",
    "    third.next = fifth\n",
    "    fifth.next = eight\n",
    "\n",
    "    second.next = fourth\n",
    "    fourth.next = sixth\n",
    "    sixth.next = seven\n",
    "    seven.next = nine\n",
    "\n",
    "    # Sorted List 1\n",
    "    ll = LinkedList(first)\n",
    "\n",
    "    # Sorted List 2\n",
    "    mm = LinkedList(second)\n",
    "\n",
    "    \n",
    "ll.head.node"
   ]
  },
  {
   "cell_type": "code",
   "execution_count": 13,
   "metadata": {},
   "outputs": [
    {
     "ename": "KeyboardInterrupt",
     "evalue": "",
     "output_type": "error",
     "traceback": [
      "\u001b[1;31m---------------------------------------------------------------------------\u001b[0m",
      "\u001b[1;31mKeyboardInterrupt\u001b[0m                         Traceback (most recent call last)",
      "Input \u001b[1;32mIn [13]\u001b[0m, in \u001b[0;36m<cell line: 28>\u001b[1;34m()\u001b[0m\n\u001b[0;32m     25\u001b[0m     head \u001b[38;5;241m=\u001b[39m dummy\u001b[38;5;241m.\u001b[39mnext   \n\u001b[0;32m     26\u001b[0m     \u001b[38;5;28;01mreturn\u001b[39;00m head\n\u001b[1;32m---> 28\u001b[0m temp \u001b[38;5;241m=\u001b[39m \u001b[43mmergeTwoLists\u001b[49m\u001b[43m(\u001b[49m\u001b[43mll\u001b[49m\u001b[38;5;241;43m.\u001b[39;49m\u001b[43mhead\u001b[49m\u001b[43m,\u001b[49m\u001b[43mmm\u001b[49m\u001b[38;5;241;43m.\u001b[39;49m\u001b[43mhead\u001b[49m\u001b[43m)\u001b[49m\n\u001b[0;32m     30\u001b[0m \u001b[38;5;28;01mwhile\u001b[39;00m temp:\n\u001b[0;32m     31\u001b[0m     \u001b[38;5;28mprint\u001b[39m(temp\u001b[38;5;241m.\u001b[39mnode,end\u001b[38;5;241m=\u001b[39m\u001b[38;5;124m\"\u001b[39m\u001b[38;5;124m \u001b[39m\u001b[38;5;124m\"\u001b[39m)\n",
      "Input \u001b[1;32mIn [13]\u001b[0m, in \u001b[0;36mmergeTwoLists\u001b[1;34m(l1, l2)\u001b[0m\n\u001b[0;32m      7\u001b[0m \u001b[38;5;28;01mif\u001b[39;00m l1\u001b[38;5;241m.\u001b[39mnode \u001b[38;5;241m<\u001b[39m\u001b[38;5;241m=\u001b[39m l2\u001b[38;5;241m.\u001b[39mnode:\n\u001b[0;32m      8\u001b[0m     tail\u001b[38;5;241m.\u001b[39mnext \u001b[38;5;241m=\u001b[39m l1\n\u001b[1;32m----> 9\u001b[0m     l1 \u001b[38;5;241m=\u001b[39m \u001b[43ml1\u001b[49m\u001b[38;5;241;43m.\u001b[39;49m\u001b[43mnext\u001b[49m\n\u001b[0;32m     10\u001b[0m \u001b[38;5;28;01melse\u001b[39;00m:\n\u001b[0;32m     11\u001b[0m     tail\u001b[38;5;241m.\u001b[39mnext \u001b[38;5;241m=\u001b[39m l2\n",
      "\u001b[1;31mKeyboardInterrupt\u001b[0m: "
     ]
    }
   ],
   "source": [
    "def mergeTwoLists(l1,l2):\n",
    "\n",
    "    '''\n",
    "    This process utilises the technique which merges two sorted arrays.\n",
    "    We will first take a dummy node and start companring our two linked lists and point dummy .next to smaller one\n",
    "    This will help us return the head by just calling dummy.next as head. \n",
    "    '''\n",
    "    dummy = Node(float('inf'))\n",
    "    tail = dummy\n",
    "\n",
    "    while l1 and l2:\n",
    "        if l1.node <= l2.node:\n",
    "            tail.next = l1\n",
    "            l1 = l1.next\n",
    "        else:\n",
    "            tail.next = l2\n",
    "            l2 = l2.next\n",
    "        tail = tail.next\n",
    "\n",
    "    while l1:\n",
    "        tail.next = l1\n",
    "        l1 = l1.next\n",
    "        tail = tail.next\n",
    "    \n",
    "    while l2:\n",
    "        tail.next = l2\n",
    "        l2 = l2.next\n",
    "        tail = tail.next\n",
    "\n",
    "    head = dummy.next   \n",
    "    return head\n",
    "\n",
    "temp = mergeTwoLists(ll.head,mm.head)\n",
    "\n",
    "while temp:\n",
    "    print(temp.node,end=\" \")\n",
    "    temp = temp.next\n",
    "\n"
   ]
  },
  {
   "cell_type": "code",
   "execution_count": null,
   "metadata": {},
   "outputs": [],
   "source": []
  }
 ],
 "metadata": {
  "kernelspec": {
   "display_name": "HackerRank",
   "language": "python",
   "name": "python3"
  },
  "language_info": {
   "codemirror_mode": {
    "name": "ipython",
    "version": 3
   },
   "file_extension": ".py",
   "mimetype": "text/x-python",
   "name": "python",
   "nbconvert_exporter": "python",
   "pygments_lexer": "ipython3",
   "version": "3.8.8"
  }
 },
 "nbformat": 4,
 "nbformat_minor": 2
}
