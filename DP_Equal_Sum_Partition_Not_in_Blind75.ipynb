{
 "cells": [
  {
   "cell_type": "markdown",
   "metadata": {},
   "source": [
    "# DP_Equal_SUM_Problem\n",
    "## Given an array arr[] of size N, check if it can be partitioned into two parts such that the sum of elements in both parts is the same.\n",
    "### Example 1\n",
    "### Input: N = 4\n",
    "### arr = {1, 5, 11, 5}\n",
    "### Output: YES\n",
    "### Explanation: \n",
    "### The two parts are {1, 5, 5} and {11}.\n",
    "\n",
    "### Geeks For Geeks URL : https://www.geeksforgeeks.org/problems/subset-sum-problem2014/1"
   ]
  },
  {
   "cell_type": "code",
   "execution_count": 7,
   "metadata": {},
   "outputs": [
    {
     "data": {
      "text/plain": [
       "True"
      ]
     },
     "execution_count": 7,
     "metadata": {},
     "output_type": "execute_result"
    }
   ],
   "source": [
    "def equalPartition(n,arr):\n",
    "    \n",
    "    totalSum = sum(arr)\n",
    "\n",
    "    if totalSum % 2 == 0:\n",
    "        w = totalSum // 2\n",
    "        dp = [[False for i in range(w+1)] for i in range(n+1)]\n",
    "\n",
    "        for i in range(n+1):\n",
    "            dp[i][0] = True\n",
    "        \n",
    "        for i in range(1,n+1):\n",
    "            for j in range(1,w+1):\n",
    "\n",
    "                if arr[i-1] <= w:\n",
    "                    dp[i][j] = dp[i-1][j-arr[i-1]] or dp[i-1][j]\n",
    "                else:\n",
    "                    dp[i][j] = dp[i-1][j]\n",
    "        return dp[n][w]\n",
    "\n",
    "    else:\n",
    "        return -1\n",
    "\n",
    "n = 4\n",
    "arr = [1, 5, 11, 5]\n",
    "\n",
    "equalPartition(n,arr)"
   ]
  },
  {
   "cell_type": "code",
   "execution_count": null,
   "metadata": {},
   "outputs": [],
   "source": []
  }
 ],
 "metadata": {
  "kernelspec": {
   "display_name": "HackerRank",
   "language": "python",
   "name": "python3"
  },
  "language_info": {
   "codemirror_mode": {
    "name": "ipython",
    "version": 3
   },
   "file_extension": ".py",
   "mimetype": "text/x-python",
   "name": "python",
   "nbconvert_exporter": "python",
   "pygments_lexer": "ipython3",
   "version": "3.8.8"
  }
 },
 "nbformat": 4,
 "nbformat_minor": 2
}
