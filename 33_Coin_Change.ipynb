{
 "cells": [
  {
   "cell_type": "markdown",
   "metadata": {},
   "source": [
    "# Problem 33 Coin Change\n",
    "### You are given an integer array coins representing coins of different denominations and an integer amount representing a total amount of money.\n",
    "### Return the fewest number of coins that you need to make up that amount. If that amount of money cannot be made up by any combination of the coins, return -1.\n",
    "### You may assume that you have an infinite number of each kind of coin.\n",
    "\n",
    "## LeetCode URL: https://leetcode.com/problems/coin-change/description/"
   ]
  },
  {
   "cell_type": "code",
   "execution_count": 2,
   "metadata": {},
   "outputs": [
    {
     "data": {
      "text/plain": [
       "3"
      ]
     },
     "execution_count": 2,
     "metadata": {},
     "output_type": "execute_result"
    }
   ],
   "source": [
    "def coinChange(coins, amount):\n",
    "    '''\n",
    "    Lets solve the problem using dynamic programming. Here we are trying to calculate using bottom up\n",
    "    approach where we will first identify how many coins it will take to get 1 amount then 2 and then so on\n",
    "    each time we get a value we will save it in respective dp index. At last we will return the index of amount\n",
    "    Args:\n",
    "    a. List\n",
    "    b. int\n",
    "\n",
    "    Output:\n",
    "    int    \n",
    "\n",
    "    '''\n",
    "\n",
    "    dp = [float('inf')] * (amount+1)\n",
    "\n",
    "    dp[0] = 0\n",
    "\n",
    "    for a in range(1,amount+1):\n",
    "        for coin in coins:\n",
    "            dp[a] = min(dp[a],1+dp[a-coin])\n",
    "    \n",
    "    return dp[amount] if dp[amount] != float('inf') else -1\n",
    "\n",
    "\n",
    "coins = [1,2,5]\n",
    "amount = 11\n",
    "\n",
    "coinChange(coins,amount)\n"
   ]
  },
  {
   "cell_type": "code",
   "execution_count": null,
   "metadata": {},
   "outputs": [],
   "source": []
  }
 ],
 "metadata": {
  "kernelspec": {
   "display_name": "HackerRank",
   "language": "python",
   "name": "python3"
  },
  "language_info": {
   "codemirror_mode": {
    "name": "ipython",
    "version": 3
   },
   "file_extension": ".py",
   "mimetype": "text/x-python",
   "name": "python",
   "nbconvert_exporter": "python",
   "pygments_lexer": "ipython3",
   "version": "3.8.8"
  }
 },
 "nbformat": 4,
 "nbformat_minor": 2
}
