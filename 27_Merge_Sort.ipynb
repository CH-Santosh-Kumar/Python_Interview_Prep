{
 "cells": [
  {
   "cell_type": "code",
   "execution_count": 7,
   "metadata": {},
   "outputs": [
    {
     "data": {
      "text/plain": [
       "[9, 8, 7, 6, 5, 4, 3, 2, 1]"
      ]
     },
     "execution_count": 7,
     "metadata": {},
     "output_type": "execute_result"
    }
   ],
   "source": [
    "def MergeSort(nums):\n",
    "    '''\n",
    "    While working with Linked our next topic that we are going to solve is merging two sorted linked list\n",
    "    Now because we could use merge sort in next example i wanted to first go through the merge sort code.\n",
    "\n",
    "    below code is using recursion to first divide the list to single elements and then start comparing the elements \n",
    "    and arranging them in ascending order or descending order.\n",
    "    so because we are dividing the array into two parts to solve in each recursion\n",
    "    the time complexity here would be log(n), where as the next step of combining the sorted list will take n time\n",
    "    so overall time complexity would be nlog(n).\n",
    "    '''\n",
    "    if len(nums) > 1:\n",
    "\n",
    "        mid = len(nums)//2\n",
    "\n",
    "        left = nums[:mid]\n",
    "        right = nums[mid:]\n",
    "\n",
    "        MergeSort(left)\n",
    "        MergeSort(right)\n",
    "\n",
    "        i,j,k = 0,0,0\n",
    "\n",
    "        while i < len(left) and j < len(right):\n",
    "\n",
    "            if left[i] <= right[j]:\n",
    "                nums[k] = right[j]\n",
    "                j+=1\n",
    "            else:\n",
    "                nums[k] = left[i]\n",
    "                i+=1\n",
    "            \n",
    "            k+=1\n",
    "        \n",
    "        while i < len(left):\n",
    "            nums[k] = left[i]\n",
    "            i+=1\n",
    "            k+=1\n",
    "        \n",
    "        while j < len(right):\n",
    "            nums[k] = right[j]\n",
    "            j+=1\n",
    "            k+=1\n",
    "\n",
    "    return nums\n",
    "\n",
    "nums = [1,3,4,5,7,2,6,8,9]\n",
    "\n",
    "MergeSort(nums)"
   ]
  },
  {
   "cell_type": "code",
   "execution_count": null,
   "metadata": {},
   "outputs": [],
   "source": []
  }
 ],
 "metadata": {
  "kernelspec": {
   "display_name": "HackerRank",
   "language": "python",
   "name": "python3"
  },
  "language_info": {
   "codemirror_mode": {
    "name": "ipython",
    "version": 3
   },
   "file_extension": ".py",
   "mimetype": "text/x-python",
   "name": "python",
   "nbconvert_exporter": "python",
   "pygments_lexer": "ipython3",
   "version": "3.8.8"
  }
 },
 "nbformat": 4,
 "nbformat_minor": 2
}
