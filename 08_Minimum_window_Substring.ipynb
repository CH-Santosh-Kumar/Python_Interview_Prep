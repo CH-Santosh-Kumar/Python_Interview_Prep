{
 "cells": [
  {
   "cell_type": "markdown",
   "metadata": {},
   "source": [
    "# Problem 08: Minimum Window Substring\n",
    "\n",
    "### Given two strings s and t of lengths m and n respectively, return the minimum window substring of s such that every character in t (including duplicates) is included in the window. If there is no such substring, return the empty string \"\". The testcases will be generated such that the answer is unique.\n",
    "\n",
    "### Leet Code link: https://leetcode.com/problems/minimum-window-substring/description/"
   ]
  },
  {
   "cell_type": "code",
   "execution_count": 17,
   "metadata": {},
   "outputs": [
    {
     "data": {
      "text/plain": [
       "'BANC'"
      ]
     },
     "execution_count": 17,
     "metadata": {},
     "output_type": "execute_result"
    }
   ],
   "source": [
    "def minWindow(s: str, t: str):\n",
    "\n",
    "    # Checking for base case\n",
    "\n",
    "    if t == \"\" :\n",
    "        return \"\"\n",
    "    \n",
    "    t_dict = {} # dictionary for t string characters\n",
    "    window = {} # dictionaryb to compare t string characters with s\n",
    "    l = 0 # left pointer to get the length of substring\n",
    "    res, resLen = [-1,-1], float(\"infinity\") # place holder to hold left and right coordinates and length \n",
    "    have , need = 0,len(t) # have and need variables to compare the characters between two strings\n",
    "    \n",
    "    # Creating a dictionary with characters and their counts in string t\n",
    "    for c in t:\n",
    "        t_dict[c] = 1 + t_dict.get(c,0)\n",
    "\n",
    "    \n",
    "\n",
    "    for r in range(len(s)):\n",
    "\n",
    "        c = s[r]\n",
    "        window[c] = 1 + window.get(c,0)\n",
    "        \n",
    "        if c in t_dict and window[c] == t_dict[c]:\n",
    "            have +=1 \n",
    "\n",
    "        while have == need:\n",
    "            if (r-l+1) < resLen:\n",
    "                res = [l,r]\n",
    "                resLen = r-l+1\n",
    "            \n",
    "            window[s[l]] -= 1\n",
    "\n",
    "            if s[l] in t_dict and window[s[l]] < t_dict[s[l]]:\n",
    "                have -= 1\n",
    "            l+=1\n",
    "    \n",
    "    l,r = res\n",
    "\n",
    "    return s[l:r+1] if resLen != float(\"infinity\") else \"\"\n",
    "\n",
    "\n",
    "\n",
    "s = \"ADOBECODEBANC\"\n",
    "t = \"ABC\"\n",
    "\n",
    "minWindow(s,t)"
   ]
  }
 ],
 "metadata": {
  "kernelspec": {
   "display_name": "HackerRank",
   "language": "python",
   "name": "python3"
  },
  "language_info": {
   "codemirror_mode": {
    "name": "ipython",
    "version": 3
   },
   "file_extension": ".py",
   "mimetype": "text/x-python",
   "name": "python",
   "nbconvert_exporter": "python",
   "pygments_lexer": "ipython3",
   "version": "3.8.8"
  }
 },
 "nbformat": 4,
 "nbformat_minor": 2
}
