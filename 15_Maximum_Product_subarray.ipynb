{
 "cells": [
  {
   "cell_type": "markdown",
   "metadata": {},
   "source": [
    "# Problem 15: Maximum Product Subarray\n",
    "### Given an integer array nums, find a subarray that has the largest product, and return the product. The test cases are generated so that the answer will fit in a 32-bit integer. \n",
    "\n",
    "LeetCode URL: https://leetcode.com/problems/maximum-product-subarray/description/"
   ]
  },
  {
   "cell_type": "code",
   "execution_count": 3,
   "metadata": {},
   "outputs": [
    {
     "name": "stdout",
     "output_type": "stream",
     "text": [
      "24\n"
     ]
    }
   ],
   "source": [
    "def maxProduct(nums):\n",
    "\n",
    "    \"\"\"\n",
    "    Program is expecting us to identify subarray which has maximum product. We can not approach this similar to\n",
    "    what we did for maximum subarray question because when talking about products we have negative * negative as positive.\n",
    "    number * 0 as 0 and so on.\n",
    "    So in order to solve this we need to keep track of both maximum and minimum values at current place. If two numbers\n",
    "    are posotive their maximum would be product but if one is positive and one is negative their maximum would be the positive number.\n",
    "    Similarly for negative number.\n",
    "    So at the end when we save our final result in res variablw we will again check out of three variables which has maximum value at each\n",
    "    iteration.\n",
    "\n",
    "    Input: list of numbers\n",
    "    Output: Integer\n",
    "\n",
    "    Time cmomplexity : O(n2)\n",
    "    \"\"\"\n",
    "\n",
    "    res = max(nums)\n",
    "    curMax = curMin = 1\n",
    "\n",
    "    for n in nums:\n",
    "\n",
    "        temp = curMax * n\n",
    "        curMax = max(temp,n*curMin,n)\n",
    "        curMin = min(temp,n*curMin,n)\n",
    "        res = max(res,curMax,curMin)\n",
    "\n",
    "    return res\n",
    "\n",
    "nums = [-2,3,-4]\n",
    "print(maxProduct(nums))"
   ]
  },
  {
   "cell_type": "code",
   "execution_count": null,
   "metadata": {},
   "outputs": [],
   "source": []
  }
 ],
 "metadata": {
  "kernelspec": {
   "display_name": "HackerRank",
   "language": "python",
   "name": "python3"
  },
  "language_info": {
   "codemirror_mode": {
    "name": "ipython",
    "version": 3
   },
   "file_extension": ".py",
   "mimetype": "text/x-python",
   "name": "python",
   "nbconvert_exporter": "python",
   "pygments_lexer": "ipython3",
   "version": "3.8.8"
  }
 },
 "nbformat": 4,
 "nbformat_minor": 2
}
