{
 "cells": [
  {
   "cell_type": "markdown",
   "metadata": {},
   "source": [
    "### Linked List\n",
    "### linked list is a linear data structure. Unlike arrays where insertiona nd deletion costs. Linked list could be inserted and deleted at any plance. This could be done because linked list stores value as well as pointger of next block at each node.\n",
    "\n",
    "### Before hoping to out First Linked list question. Lets create a linked list and lets print one. "
   ]
  },
  {
   "cell_type": "code",
   "execution_count": 25,
   "metadata": {},
   "outputs": [
    {
     "name": "stdout",
     "output_type": "stream",
     "text": [
      "Printing linked list\n",
      "1 2 3 4 5 "
     ]
    }
   ],
   "source": [
    "class LinkedList:\n",
    "\n",
    "    '''\n",
    "    Title: Creating a linked list\n",
    "    Below code creates a linked list. we have created two methods one is linked list and another is Node\n",
    "    the we are manually creating five elements.\n",
    "    Then we are printing the elements using printlist method created in class.\n",
    "    '''\n",
    "\n",
    "    def __init__(self,val):\n",
    "        self.head = val\n",
    "    \n",
    "    def _printList(self):\n",
    "        temp = self.head\n",
    "        while temp:\n",
    "            print(temp.node,end=\" \")\n",
    "            temp = temp.next\n",
    "\n",
    "class Node:\n",
    "\n",
    "    def __init__(self,val):\n",
    "        self.node = val\n",
    "        self.next = None\n",
    "\n",
    "\n",
    "if __name__ == '__main__':\n",
    "\n",
    "    first = Node(1)\n",
    "    second = Node(2)\n",
    "    third = Node(3)\n",
    "    fourth = Node(4)\n",
    "    fifth = Node(5)\n",
    "\n",
    "    first.next = second\n",
    "    second.next = third\n",
    "    third.next = fourth\n",
    "    fourth.next = fifth\n",
    "\n",
    "    ll = LinkedList(first)\n",
    "    print(\"Printing linked list\")\n",
    "    ll._printList()\n"
   ]
  },
  {
   "cell_type": "code",
   "execution_count": 19,
   "metadata": {},
   "outputs": [
    {
     "name": "stdout",
     "output_type": "stream",
     "text": [
      "5 4 3 2 1 "
     ]
    }
   ],
   "source": [
    "def reverseList(head):\n",
    "    '''\n",
    "    Title: Reverse a linked list\n",
    "    Now we are coming to our main program. We want to reverse a linked list. Because we have a node and\n",
    "    pointer. We will be just changing a pointer from next to previus but we want to keep track of our next node before\n",
    "    changing the reverse.\n",
    "    in below code we need to have two variables one will be prev which will keep the previous node referense.\n",
    "    And second is next variable which will keep track of next pointer.\n",
    "    Lets Code \n",
    "    '''\n",
    "\n",
    "    def printList(head):\n",
    "\n",
    "        temp = head\n",
    "        while temp:\n",
    "            print(temp.node,end = \" \")\n",
    "            temp = temp.next\n",
    "\n",
    "    curr = head\n",
    "    prev = None\n",
    "    \n",
    "    while curr:\n",
    "        next = curr.next\n",
    "        curr.next = prev\n",
    "        prev = curr\n",
    "        curr = next\n",
    "    head = prev\n",
    "\n",
    "    return printList(head)\n",
    "    \n",
    "reverseList(ll.head)"
   ]
  },
  {
   "cell_type": "code",
   "execution_count": 26,
   "metadata": {},
   "outputs": [
    {
     "name": "stdout",
     "output_type": "stream",
     "text": [
      "5\n",
      "4\n",
      "3\n",
      "2\n",
      "1\n"
     ]
    }
   ],
   "source": [
    "def reverseList(head):\n",
    "    '''\n",
    "    Now lets code it in recursion.\n",
    "    In the below code we are first having newhead which will be set to the current head of the list for \n",
    "    that instance. Now when tring for recursion we will pass the head.next so first we want to reverse the last most element\n",
    "    once thatr is reversed we want to point next value of next element to us (Which is actually rversing like 1 -> 2 -> None => None <- 1 <- 2)\n",
    "    Now once we did that we want to assign our next to None so that when final recursion happends the end node should point to None.\n",
    "    as we are keeping track of newhead and return the same at end\n",
    "\n",
    "    Args:\n",
    "    Linked List\n",
    "\n",
    "    Output:\n",
    "    Reversed Linked List\n",
    "    '''\n",
    "\n",
    "    newHead = head\n",
    "\n",
    "    if head.next:\n",
    "        newHead = reverseList(head.next)\n",
    "        head.next.next = head\n",
    "\n",
    "    head.next = None\n",
    "    return newHead\n",
    "\n",
    "\n",
    "temp = reverseList(ll.head)\n",
    "while temp:\n",
    "    print(temp.node)\n",
    "    temp = temp.next"
   ]
  }
 ],
 "metadata": {
  "kernelspec": {
   "display_name": "HackerRank",
   "language": "python",
   "name": "python3"
  },
  "language_info": {
   "codemirror_mode": {
    "name": "ipython",
    "version": 3
   },
   "file_extension": ".py",
   "mimetype": "text/x-python",
   "name": "python",
   "nbconvert_exporter": "python",
   "pygments_lexer": "ipython3",
   "version": "3.8.8"
  }
 },
 "nbformat": 4,
 "nbformat_minor": 2
}
