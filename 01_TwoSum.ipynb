{
 "cells": [
  {
   "cell_type": "markdown",
   "metadata": {},
   "source": [
    "## Problem: Two Sum\n",
    "### Statement: Given an array of integers nums and an integer target, return indices of the two numbers such that they add up to target.\n",
    "### Leet Code URL: https://leetcode.com/problems/two-sum/"
   ]
  },
  {
   "cell_type": "code",
   "execution_count": 3,
   "metadata": {},
   "outputs": [
    {
     "data": {
      "text/plain": [
       "[1, 0]"
      ]
     },
     "execution_count": 3,
     "metadata": {},
     "output_type": "execute_result"
    }
   ],
   "source": [
    "def twoSum(nums,target):\n",
    "    \"\"\"\n",
    "    Explaination: Two sum number could be easily solved using sets. This will help us solve the problem in linear time.\n",
    "    Input: List,int\n",
    "    Output: List\n",
    "    Time Complexity: O(nums)\n",
    "    Space Complexity: O(nums)\n",
    "    \"\"\"\n",
    "    stack = set()\n",
    "    for index,num in enumerate(nums):\n",
    "        if (target - num) in stack:\n",
    "            return [index,nums.index(target-num)]\n",
    "        else:\n",
    "            stack.add(num)\n",
    "    \n",
    "    return None\n",
    "\n",
    "nums = [2,7,11,15]\n",
    "target = 9\n",
    "\n",
    "twoSum(nums,target)\n",
    "\n"
   ]
  }
 ],
 "metadata": {
  "kernelspec": {
   "display_name": "HackerRank",
   "language": "python",
   "name": "python3"
  },
  "language_info": {
   "codemirror_mode": {
    "name": "ipython",
    "version": 3
   },
   "file_extension": ".py",
   "mimetype": "text/x-python",
   "name": "python",
   "nbconvert_exporter": "python",
   "pygments_lexer": "ipython3",
   "version": "3.8.8"
  }
 },
 "nbformat": 4,
 "nbformat_minor": 2
}
