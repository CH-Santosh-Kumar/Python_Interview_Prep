{
 "cells": [
  {
   "cell_type": "markdown",
   "metadata": {},
   "source": [
    "# Find Minimum in Rotated Sorted Array\n",
    "### Suppose an array of length n sorted in ascending order is rotated between 1 and n times. For example, the array nums = [0,1,2,4,5,6,7] might become:\n",
    "\n",
    "### [4,5,6,7,0,1,2] if it was rotated 4 times.\n",
    "### [0,1,2,4,5,6,7] if it was rotated 7 times.\n",
    "### Notice that rotating an array [a[0], a[1], a[2], ..., a[n-1]] 1 time results in the array [a[n-1], a[0], a[1], a[2], ..., a[n-2]].\n",
    "\n",
    "### Given the sorted rotated array nums of unique elements, return the minimum element of this array.\n",
    "\n",
    "### You must write an algorithm that runs in O(log n) time.\n",
    "\n",
    "## LeetCode URL: https://leetcode.com/problems/find-minimum-in-rotated-sorted-array/description/ "
   ]
  },
  {
   "cell_type": "code",
   "execution_count": 6,
   "metadata": {},
   "outputs": [
    {
     "data": {
      "text/plain": [
       "1"
      ]
     },
     "execution_count": 6,
     "metadata": {},
     "output_type": "execute_result"
    }
   ],
   "source": [
    "def findMin(nums):\n",
    "\n",
    "    \"\"\"\n",
    "    Brute force approach would be to compare each value and chcek if the difference between previous value\n",
    "    and current value is not 1 if it is not then minimum of two would be our solution.\n",
    "    But because question asked us to solve in log(n) time. We want to use Binary search approach\n",
    "    Now in order to use binary search we want to have left and right pointers and we want to check if mid value\n",
    "    is greater then equal to left value or not coz then only it would be in ascending order as we wanted.\n",
    "    it is is in ascending order it means we want to search in right part of list and we will have new left pointer as mid+1\n",
    "    else it would be in left part of list and we will have new right pointer as mid - 1.\n",
    "    each time we will save mid value as the result if it is smaller then current res.\n",
    "\n",
    "    This approach is similar to binary search we just need to add couple more steps to acknowledge rotated sorted array.\n",
    "\n",
    "    input: Array\n",
    "    Output: number\n",
    "    Time: O(log n)\n",
    "    \"\"\"\n",
    "    res = nums[0]\n",
    "\n",
    "    l,r = 0,len(nums)-1\n",
    "\n",
    "    while l <= r:\n",
    "      \n",
    "        if nums[l] <= nums[r]:\n",
    "            res = min(res,nums[l])\n",
    "            break\n",
    "      \n",
    "        mid = r+l // 2\n",
    "        res = min(res,nums[mid])\n",
    "        if nums[mid] >= nums[l]:\n",
    "            l = mid + 1\n",
    "        else:\n",
    "            r = mid - 1\n",
    "    \n",
    "    return res\n",
    "\n",
    "    \n",
    "nums = [3,4,5,1,2]\n",
    "\n",
    "findMin(nums)"
   ]
  },
  {
   "cell_type": "code",
   "execution_count": null,
   "metadata": {},
   "outputs": [],
   "source": []
  }
 ],
 "metadata": {
  "kernelspec": {
   "display_name": "HackerRank",
   "language": "python",
   "name": "python3"
  },
  "language_info": {
   "codemirror_mode": {
    "name": "ipython",
    "version": 3
   },
   "file_extension": ".py",
   "mimetype": "text/x-python",
   "name": "python",
   "nbconvert_exporter": "python",
   "pygments_lexer": "ipython3",
   "version": "3.8.8"
  }
 },
 "nbformat": 4,
 "nbformat_minor": 2
}
