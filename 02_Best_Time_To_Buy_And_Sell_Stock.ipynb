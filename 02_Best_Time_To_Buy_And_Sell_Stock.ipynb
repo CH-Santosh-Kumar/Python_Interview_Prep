{
 "cells": [
  {
   "cell_type": "markdown",
   "metadata": {},
   "source": [
    "# Best Time to Buy and Sell Stock\n",
    "### You are given an array prices where prices[i] is the price of a given stock on the ith day. You want to maximize your profit by choosing a single day to buy one stock and choosing a different day in the future to sell that stock.\n",
    "### LeetCode URL: https://leetcode.com/problems/best-time-to-buy-and-sell-stock/"
   ]
  },
  {
   "cell_type": "code",
   "execution_count": 9,
   "metadata": {},
   "outputs": [
    {
     "data": {
      "text/plain": [
       "2"
      ]
     },
     "execution_count": 9,
     "metadata": {},
     "output_type": "execute_result"
    }
   ],
   "source": [
    "def maxProfit(prices):\n",
    "\n",
    "    \"\"\"\n",
    "    Explaination: As we need to check if we gained profit or loss after each day and keep track of all the profits we make,\n",
    "    we need to take help of 2 variables, 1 for maximum profits, 2 for all the profits we encounter. At the end we verify if we have received any profit\n",
    "    in all profits list if we did we return the maximum of them or else we return 0\n",
    "\n",
    "    input: prices (list)\n",
    "    output: max_profit (Integer)\n",
    "    Time Complexity: As we are using for loop to iterate a list only once it would be linear O(n)\n",
    "    Space Complexity: Worst case scenario would be O(n)\n",
    "    \"\"\"\n",
    "\n",
    "    #Valiable used to keep track of current maximum profits\n",
    "    max_profit = 0\n",
    "\n",
    "    # to keep track of all the profits we observed throughout iteration \n",
    "    all_profits = []\n",
    "\n",
    "    for i in range(1,len(prices)):\n",
    "        profit = prices[i] - prices[i-1]\n",
    "        if (profit + max_profit) > 0:\n",
    "            max_profit += profit\n",
    "            all_profits.append(max_profit)\n",
    "        else:\n",
    "            max_profit = 0\n",
    "\n",
    "    return max(all_profits) if len(all_profits) != 0 else max_profit\n",
    "\n",
    "prices = [2,4,1]\n",
    "\n",
    "maxProfit(prices)"
   ]
  },
  {
   "cell_type": "code",
   "execution_count": null,
   "metadata": {},
   "outputs": [],
   "source": []
  }
 ],
 "metadata": {
  "kernelspec": {
   "display_name": "HackerRank",
   "language": "python",
   "name": "python3"
  },
  "language_info": {
   "codemirror_mode": {
    "name": "ipython",
    "version": 3
   },
   "file_extension": ".py",
   "mimetype": "text/x-python",
   "name": "python",
   "nbconvert_exporter": "python",
   "pygments_lexer": "ipython3",
   "version": "3.8.8"
  }
 },
 "nbformat": 4,
 "nbformat_minor": 2
}
