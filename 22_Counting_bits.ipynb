{
 "cells": [
  {
   "cell_type": "markdown",
   "metadata": {},
   "source": [
    "# Problem 23 : Counting Bits\n",
    "### Given an integer n, return an array ans of length n + 1 such that for each i (0 <= i <= n), ans[i] is the number of 1's in the binary representation of i.\n",
    "## LeetCode URL: https://leetcode.com/problems/counting-bits/description/ "
   ]
  },
  {
   "cell_type": "code",
   "execution_count": 1,
   "metadata": {},
   "outputs": [
    {
     "data": {
      "text/plain": [
       "[0, 1, 1]"
      ]
     },
     "execution_count": 1,
     "metadata": {},
     "output_type": "execute_result"
    }
   ],
   "source": [
    "def countBits(n):\n",
    "    \n",
    "    '''\n",
    "    Title: Counting Bits\n",
    "    This problem is similar to the previous one which is Number of 1 bits. Just the next catch is we want to \n",
    "    append all these bits to result list. \n",
    "    As we are using below approach where we have one outer for loop and inside we are using mod and shifting \n",
    "    number to right, total time complexity of problem would be n * log(n)\n",
    "    \n",
    "    \n",
    "    Args: \n",
    "    a. Int\n",
    "\n",
    "    Output:\n",
    "    list\n",
    "\n",
    "    '''\n",
    "\n",
    "    res = []\n",
    "\n",
    "    for i in range(n+1):\n",
    "\n",
    "        val = i\n",
    "        count = 0\n",
    "        while val:\n",
    "            count += val%2\n",
    "            val = val >> 1\n",
    "        res.append(count)\n",
    "\n",
    "    return res\n",
    "n = 2\n",
    "countBits(n)"
   ]
  },
  {
   "cell_type": "code",
   "execution_count": 4,
   "metadata": {},
   "outputs": [
    {
     "data": {
      "text/plain": [
       "[0, 1, 1]"
      ]
     },
     "execution_count": 4,
     "metadata": {},
     "output_type": "execute_result"
    }
   ],
   "source": [
    "def countBits(n):\n",
    "    \n",
    "    '''\n",
    "    Title: Counting Bits\n",
    "    Lets see if we could do better then previous code. We want to find the number of 1s in each index from\n",
    "    0 to n. lets write the bits out. As you can see in below code each four bits have 1 count more then previous 4 bits\n",
    "    and each 8 bits have 1 count more then previous 8 bits.\n",
    "\n",
    "    This could be understood in terms of 1 + dp[i-offset], here offset is either 1,2,4,8 and we will determine\n",
    "    offset by comparing if current index is multiple of 2 if it is then we will set the new offset to current index.\n",
    "    \n",
    "    This could be more clearer in the code.\n",
    "    \n",
    "    0000\n",
    "    0001\n",
    "    0010\n",
    "    0011\n",
    "    0100\n",
    "    0101\n",
    "    0110\n",
    "    0111\n",
    "    1000\n",
    "    1001\n",
    "    1010\n",
    "    .\n",
    "    .\n",
    "    \n",
    "    \n",
    "    Args: \n",
    "    a. Int\n",
    "\n",
    "    Output:\n",
    "    list\n",
    "\n",
    "    '''\n",
    "\n",
    "    dp = [0] * (n+1)\n",
    "    offset = 1\n",
    "\n",
    "    for i in range(1,n+1):\n",
    "        if offset * 2 == i:\n",
    "            offset = i\n",
    "        \n",
    "        dp[i] = 1 + dp[i-offset]\n",
    "\n",
    "    return dp \n",
    "\n",
    "    return res\n",
    "n = 2\n",
    "countBits(n)"
   ]
  },
  {
   "cell_type": "code",
   "execution_count": null,
   "metadata": {},
   "outputs": [],
   "source": []
  }
 ],
 "metadata": {
  "kernelspec": {
   "display_name": "HackerRank",
   "language": "python",
   "name": "python3"
  },
  "language_info": {
   "codemirror_mode": {
    "name": "ipython",
    "version": 3
   },
   "file_extension": ".py",
   "mimetype": "text/x-python",
   "name": "python",
   "nbconvert_exporter": "python",
   "pygments_lexer": "ipython3",
   "version": "3.8.8"
  }
 },
 "nbformat": 4,
 "nbformat_minor": 2
}
