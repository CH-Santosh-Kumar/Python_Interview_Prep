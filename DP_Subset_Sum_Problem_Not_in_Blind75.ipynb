{
 "cells": [
  {
   "cell_type": "markdown",
   "metadata": {},
   "source": [
    "# Subset Sum Problem\n",
    "## Given a set of non-negative integers and a value sum, the task is to check if there is a subset of the given set whose sum is equal to the given sum. \n",
    "\n",
    "## Geeks for Geeks URL : https://www.geeksforgeeks.org/subset-sum-problem-dp-25/"
   ]
  },
  {
   "cell_type": "code",
   "execution_count": 6,
   "metadata": {},
   "outputs": [
    {
     "data": {
      "text/plain": [
       "False"
      ]
     },
     "execution_count": 6,
     "metadata": {},
     "output_type": "execute_result"
    }
   ],
   "source": [
    "def subsetSum(nums,target):\n",
    "    n = len(nums)\n",
    "\n",
    "    dp = [[float('inf') for i in range(target+1)] for i in range(n+1)]\n",
    "    \n",
    "    def recursion(nums,i,j):\n",
    "\n",
    "        if j == 0:\n",
    "            dp[i][0] = True\n",
    "            return dp[i][j]\n",
    "        \n",
    "        if i == 0:\n",
    "            dp[i][j] = False\n",
    "            return dp[i][j]\n",
    "\n",
    "        if dp[i][j] != float('inf'):\n",
    "            return dp[i][j]\n",
    "\n",
    "        if nums[i-1] <= j:\n",
    "            dp[i][j] = True if recursion(nums,i-1,j-nums[i-1]) or recursion(nums,i-1,j) else False\n",
    "            return dp[i][j]\n",
    "        else:\n",
    "            dp[i][j] = recursion(nums,i-1,j)\n",
    "            return dp[i][j]\n",
    "    \n",
    "    return recursion(nums,len(nums),target)\n",
    "        \n",
    "nums = [2,3,7,4,10]\n",
    "target = 1\n",
    "\n",
    "subsetSum(nums,target)"
   ]
  },
  {
   "cell_type": "code",
   "execution_count": 14,
   "metadata": {},
   "outputs": [
    {
     "data": {
      "text/plain": [
       "False"
      ]
     },
     "execution_count": 14,
     "metadata": {},
     "output_type": "execute_result"
    }
   ],
   "source": [
    "# Solving the same problem using iterative method\n",
    "\n",
    "\n",
    "def subsetSum(nums,target):\n",
    "\n",
    "    n = len(nums)\n",
    "\n",
    "    dp = [[False for i in range(target+1)] for i in range(n+1)]\n",
    "\n",
    "    for i in range(n):\n",
    "        dp[i][0] = True\n",
    "\n",
    "    for i in range(1,n+1):\n",
    "        for j in range(1,target+1):\n",
    "\n",
    "            if nums[i-1] <= j:\n",
    "                dp[i][j] = True if dp[i-1][j-nums[i-1]] or dp[i-1][j] else False\n",
    "            else:\n",
    "                dp[i][j] = dp[i-1][j]\n",
    "    \n",
    "    return dp[n][target]\n",
    "\n",
    "\n",
    "nums = [2,3,7,4,10]\n",
    "target = 1\n",
    "subsetSum(nums,target)"
   ]
  }
 ],
 "metadata": {
  "kernelspec": {
   "display_name": "HackerRank",
   "language": "python",
   "name": "python3"
  },
  "language_info": {
   "codemirror_mode": {
    "name": "ipython",
    "version": 3
   },
   "file_extension": ".py",
   "mimetype": "text/x-python",
   "name": "python",
   "nbconvert_exporter": "python",
   "pygments_lexer": "ipython3",
   "version": "3.8.8"
  }
 },
 "nbformat": 4,
 "nbformat_minor": 2
}
