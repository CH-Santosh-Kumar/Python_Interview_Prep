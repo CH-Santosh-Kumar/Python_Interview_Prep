{
 "cells": [
  {
   "cell_type": "markdown",
   "metadata": {},
   "source": [
    "# Problem 07 : Longest Repeating Character Replacement\n",
    "### You are given a string s and an integer k. You can choose any character of the string and change it to any other uppercase English character. You can perform this operation at most k times.Return the length of the longest substring containing the same letter you can get after performing the above operations.\n",
    "\n",
    "### LeetCode Link: https://leetcode.com/problems/longest-repeating-character-replacement/description/"
   ]
  },
  {
   "cell_type": "code",
   "execution_count": 18,
   "metadata": {},
   "outputs": [
    {
     "data": {
      "text/plain": [
       "4"
      ]
     },
     "execution_count": 18,
     "metadata": {},
     "output_type": "execute_result"
    }
   ],
   "source": [
    "def characterReplacement(s,k):\n",
    "    \"\"\"\n",
    "    Function returns the count of maximum repeating characters after k changes\n",
    "\n",
    "    We will use a dictionary to store count of characters in a window and result to store the maximum\n",
    "    size of window after k character changes\n",
    "\n",
    "    in case our changes exceeds k , we will move the left pointer by 1\n",
    "\n",
    "    input: string , integer\n",
    "    output: int\n",
    "\n",
    "    \"\"\"\n",
    "\n",
    "    # Dictionary to keep track of counts of characters in current window\n",
    "    count = {}\n",
    "    res = 0 # this will store the maximum repeating characters\n",
    "\n",
    "    l = 0\n",
    "\n",
    "    for r in range(len(s)):\n",
    "        \n",
    "        # To update the count of current character in the dictionary\n",
    "        count[s[r]] = 1 + count.get(s[r],0) \n",
    "\n",
    "        # below condition will validate if our window only has given character changes.\n",
    "        # if it does not , we will move our left pointer and remnove the count of left character \n",
    "        # from count dictionary\n",
    "\n",
    "        if (r-l+1) - max(count.values()) > k:\n",
    "            count[s[l]] -= 1\n",
    "            l+=1\n",
    "\n",
    "        res = max(res,r-l+1)\n",
    "\n",
    "    return res\n",
    "\n",
    "\n",
    "s = \"ABBB\"\n",
    "k = 1\n",
    "\n",
    "characterReplacement(s,k)"
   ]
  }
 ],
 "metadata": {
  "kernelspec": {
   "display_name": "HackerRank",
   "language": "python",
   "name": "python3"
  },
  "language_info": {
   "codemirror_mode": {
    "name": "ipython",
    "version": 3
   },
   "file_extension": ".py",
   "mimetype": "text/x-python",
   "name": "python",
   "nbconvert_exporter": "python",
   "pygments_lexer": "ipython3",
   "version": "3.8.8"
  }
 },
 "nbformat": 4,
 "nbformat_minor": 2
}
