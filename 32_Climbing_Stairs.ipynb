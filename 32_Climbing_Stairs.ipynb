{
 "cells": [
  {
   "cell_type": "markdown",
   "metadata": {},
   "source": [
    "# Problem 32: Climbing Stairs\n",
    "### You are climbing a staircase. It takes n steps to reach the top. Each time you can either climb 1 or 2 steps. In how many distinct ways can you climb to the top?\n",
    "## LeetCode URL: https://leetcode.com/problems/climbing-stairs/description/"
   ]
  },
  {
   "cell_type": "code",
   "execution_count": 6,
   "metadata": {},
   "outputs": [
    {
     "data": {
      "text/plain": [
       "3"
      ]
     },
     "execution_count": 6,
     "metadata": {},
     "output_type": "execute_result"
    }
   ],
   "source": [
    "def climbStairs(n):\n",
    "    '''\n",
    "    If we see climbing above stairs problem closely its a problem of febonachhi series where the current\n",
    "    output is sum of last two outputs. So now we used below recursive method to solve febonachhi series.\n",
    "    '''\n",
    "    def climbingStairs(n,cache={}):\n",
    "        if n in cache:\n",
    "            return cache[n]\n",
    "        \n",
    "        if n <= 2:\n",
    "            return n\n",
    "        else:\n",
    "            cache[n] = climbingStairs(n-1) + climbingStairs(n-2) \n",
    "            return cache[n] \n",
    "    \n",
    "    return climbingStairs(n)\n",
    "\n",
    "climbStairs(3)\n"
   ]
  }
 ],
 "metadata": {
  "kernelspec": {
   "display_name": "HackerRank",
   "language": "python",
   "name": "python3"
  },
  "language_info": {
   "codemirror_mode": {
    "name": "ipython",
    "version": 3
   },
   "file_extension": ".py",
   "mimetype": "text/x-python",
   "name": "python",
   "nbconvert_exporter": "python",
   "pygments_lexer": "ipython3",
   "version": "3.8.8"
  }
 },
 "nbformat": 4,
 "nbformat_minor": 2
}
