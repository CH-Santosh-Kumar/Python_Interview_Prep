{
 "cells": [
  {
   "cell_type": "markdown",
   "metadata": {},
   "source": [
    "# Count of subsets with sum equal to X\n",
    "## Given an array arr[] of length N and an integer X, the task is to find the number of subsets with a sum equal to X.\n",
    "## Geeks For Geeks URL: https://www.geeksforgeeks.org/count-of-subsets-with-sum-equal-to-x/"
   ]
  },
  {
   "cell_type": "code",
   "execution_count": 1,
   "metadata": {},
   "outputs": [
    {
     "data": {
      "text/plain": [
       "4"
      ]
     },
     "execution_count": 1,
     "metadata": {},
     "output_type": "execute_result"
    }
   ],
   "source": [
    "def printSubsetsCount(nums,sum):\n",
    "    n = len(nums)\n",
    "    dp = [[0 for i in range(sum+1)] for j in range(n+1)]\n",
    "\n",
    "    for i in range(n+1):\n",
    "        dp[i][0] = 1\n",
    "\n",
    "    for i in range(1,n+1):\n",
    "        for j in range(1,sum+1):\n",
    "\n",
    "            if nums[i-1] <= j:\n",
    "                dp[i][j] = dp[i-1][j] + dp[i-1][j-nums[i-1]]\n",
    "            else:\n",
    "                dp[i][j] = dp[i-1][j]\n",
    "    \n",
    "    return dp[n][sum]\n",
    "nums = [1,1,1,1]\n",
    "sum = 1\n",
    "printSubsetsCount(nums,sum)"
   ]
  },
  {
   "cell_type": "code",
   "execution_count": null,
   "metadata": {},
   "outputs": [],
   "source": []
  }
 ],
 "metadata": {
  "kernelspec": {
   "display_name": "HackerRank",
   "language": "python",
   "name": "python3"
  },
  "language_info": {
   "codemirror_mode": {
    "name": "ipython",
    "version": 3
   },
   "file_extension": ".py",
   "mimetype": "text/x-python",
   "name": "python",
   "nbconvert_exporter": "python",
   "pygments_lexer": "ipython3",
   "version": "3.8.8"
  }
 },
 "nbformat": 4,
 "nbformat_minor": 2
}
