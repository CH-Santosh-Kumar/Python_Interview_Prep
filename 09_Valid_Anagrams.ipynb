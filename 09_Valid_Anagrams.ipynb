{
 "cells": [
  {
   "cell_type": "markdown",
   "metadata": {},
   "source": [
    "# Problem 08: Valid Anangram\n",
    "\n",
    "### Given two strings s and t, return true if t is an anagram of s, and false otherwise.\n",
    "### An Anagram is a word or phrase formed by rearranging the letters of a different word or phrase, typically using all the original letters exactly once.\n",
    "\n",
    "### LeetCode URL: https://leetcode.com/problems/valid-anagram/description/"
   ]
  },
  {
   "cell_type": "code",
   "execution_count": 5,
   "metadata": {},
   "outputs": [
    {
     "data": {
      "text/plain": [
       "False"
      ]
     },
     "execution_count": 5,
     "metadata": {},
     "output_type": "execute_result"
    }
   ],
   "source": [
    "def isAnagram(s: str, t: str):\n",
    "\n",
    "    \"\"\"\n",
    "    Result should be boolean. Code is fairly simple to understand. We could create two dictionaries and compare the values based on the keys.\n",
    "    Input: strings (s and t)\n",
    "    Output: Bool\n",
    "    \"\"\"\n",
    "    if len(s) != len(t):\n",
    "        return False\n",
    "    sDict = {}\n",
    "    tDict = {}\n",
    "\n",
    "    for c in s:\n",
    "        sDict[c] = 1+ sDict.get(c,0)\n",
    "    for c in t:\n",
    "        tDict[c] = 1+ tDict.get(c,0)\n",
    "\n",
    "    for k,v in sDict.items():\n",
    "        if k not in tDict or tDict[k] != v:\n",
    "            return False\n",
    "    \n",
    "    return True\n",
    "\n",
    "s = \"rat\"\n",
    "t = \"car\"\n",
    "\n",
    "isAnagram(s,t)"
   ]
  },
  {
   "cell_type": "code",
   "execution_count": 11,
   "metadata": {},
   "outputs": [
    {
     "name": "stdout",
     "output_type": "stream",
     "text": [
      "2\n"
     ]
    }
   ],
   "source": [
    "from collections import defaultdict\n",
    "\n",
    "def isAnagram(s: str, t: str) -> bool:\n",
    "    \n",
    "    \"\"\"\n",
    "    Returns Bool based on if the given strings are anagram or not. This method uses a python container called default dict. If a key is not avaialble in regular dictionary and \n",
    "    we want to fetch values of key, it would through error as key not found. To overcome this we could use default dict and based on the initial value it will return the 0 in below scenario.\n",
    "    \n",
    "    \"\"\"\n",
    "    count = defaultdict(int)\n",
    "\n",
    "    for i in s:\n",
    "        count[i] += 1\n",
    "    for i in t:\n",
    "        count[i] -= 1\n",
    "        \n",
    "    for values in count.values():\n",
    "        if values != 0:\n",
    "            return False\n",
    "    return True\n",
    "\n",
    "s = \"rat\"\n",
    "t = \"car\"\n",
    "\n",
    "isAnagram(s,t)"
   ]
  },
  {
   "cell_type": "code",
   "execution_count": null,
   "metadata": {},
   "outputs": [],
   "source": []
  }
 ],
 "metadata": {
  "kernelspec": {
   "display_name": "HackerRank",
   "language": "python",
   "name": "python3"
  },
  "language_info": {
   "codemirror_mode": {
    "name": "ipython",
    "version": 3
   },
   "file_extension": ".py",
   "mimetype": "text/x-python",
   "name": "python",
   "nbconvert_exporter": "python",
   "pygments_lexer": "ipython3",
   "version": "3.8.8"
  }
 },
 "nbformat": 4,
 "nbformat_minor": 2
}
