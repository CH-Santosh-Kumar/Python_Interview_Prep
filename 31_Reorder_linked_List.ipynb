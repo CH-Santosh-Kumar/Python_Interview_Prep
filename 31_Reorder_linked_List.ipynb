{
 "cells": [
  {
   "cell_type": "markdown",
   "metadata": {},
   "source": [
    "# Problem 31: Reorder List\n",
    "### You are given the head of a singly linked-list. The list can be represented as:\n",
    "L0 → L1 → … → Ln - 1 → Ln\n",
    "### Reorder the list to be on the following form:\n",
    "L0 → Ln → L1 → Ln - 1 → L2 → Ln - 2 → …\n",
    "### You may not modify the values in the list's nodes. Only nodes themselves may be changed.\n",
    "\n",
    "### LeetCode URL: https://leetcode.com/problems/reorder-list/description/"
   ]
  },
  {
   "cell_type": "code",
   "execution_count": 36,
   "metadata": {},
   "outputs": [
    {
     "name": "stdout",
     "output_type": "stream",
     "text": [
      "1 2 3 4 5 6 7 8 "
     ]
    }
   ],
   "source": [
    "class LinkedList:\n",
    "\n",
    "    '''\n",
    "    Title: Creating a linked list\n",
    "    Below code creates a linked list. we have created two methods one is linked list and another is Node\n",
    "    the we are manually creating five elements.\n",
    "    Then we are printing the elements using printlist method created in class.\n",
    "    '''\n",
    "\n",
    "    def __init__(self,val):\n",
    "        self.head = val\n",
    "    \n",
    "    def _printList(self):\n",
    "        temp = self.head\n",
    "        while temp:\n",
    "            print(temp.node,end=\" \")\n",
    "            temp = temp.next\n",
    "\n",
    "class Node:\n",
    "\n",
    "    def __init__(self,val):\n",
    "        self.node = val\n",
    "        self.next = None\n",
    "\n",
    "\n",
    "if __name__ == '__main__':\n",
    "\n",
    "    first = Node(1)\n",
    "    second = Node(2)\n",
    "    third = Node(3)\n",
    "    fourth = Node(4)\n",
    "    fifth = Node(5)\n",
    "    sixth = Node(6)\n",
    "    seven = Node(7)\n",
    "    eight = Node(8)\n",
    "    nine = Node(9)\n",
    "    tenth = Node(10)\n",
    "    eleventh = Node(11)\n",
    "    twelth = Node(12)\n",
    "    thirteenth = Node(13)\n",
    "\n",
    "    first.next = second\n",
    "    second.next = third\n",
    "    third.next = fourth\n",
    "    fourth.next = fifth\n",
    "    fifth.next = sixth\n",
    "    sixth.next = seven\n",
    "    seven.next = eight    \n",
    "\n",
    "    # tenth.next = eleventh\n",
    "    # eleventh.next = twelth\n",
    "    # twelth.next = thirteenth\n",
    "\n",
    "    # Sorted List 1\n",
    "    ll = LinkedList(first)\n",
    "\n",
    "    # # Sorted List 2\n",
    "    # mm = LinkedList(second)\n",
    "\n",
    "    # # Sorted List 3\n",
    "    # nn = LinkedList(tenth)\n",
    "\n",
    "    \n",
    "ll._printList()"
   ]
  },
  {
   "cell_type": "code",
   "execution_count": 37,
   "metadata": {},
   "outputs": [
    {
     "name": "stdout",
     "output_type": "stream",
     "text": [
      "1 8 2 7 3 6 4 5 "
     ]
    }
   ],
   "source": [
    "def reorderList(head):\n",
    "\n",
    "    '''\n",
    "    So for this code to reorder linked list we first want to divide the current linked list into two parts\n",
    "    from the mid. So the first part we will keep as it is and second part will be in reverse. Thats how we \n",
    "    will be able to append first element and then the last element and so on.\n",
    "\n",
    "    Args:\n",
    "    a. linked List\n",
    "\n",
    "    Output:\n",
    "    a. Linked List\n",
    "    \n",
    "    '''\n",
    "    dummy = Node(float('inf'))\n",
    "    dummy.next = head\n",
    "\n",
    "    # To find the middle part of the linked list\n",
    "    left = head\n",
    "    right = head\n",
    "\n",
    "    while right and right.next:\n",
    "\n",
    "        left = left.next\n",
    "        right = right.next.next\n",
    "    \n",
    "    reverse = left.next\n",
    "    left.next = None\n",
    "\n",
    "    # Reversing the linked list\n",
    "    temp = reverse\n",
    "    prev = None\n",
    "    while temp:\n",
    "        next = temp.next\n",
    "        temp.next = prev\n",
    "        prev = temp\n",
    "        temp = next\n",
    "\n",
    "    # Modifying the list\n",
    "    first , second = dummy.next, prev\n",
    "\n",
    "    while first and second:\n",
    "        tmp1,tmp2 = first.next,second.next\n",
    "        first.next = second\n",
    "        second.next = tmp1\n",
    "        first,second = tmp1,tmp2\n",
    "\n",
    "    return dummy.next\n",
    "    \n",
    "\n",
    "temp = reorderList(ll.head)\n",
    "\n",
    "while temp:\n",
    "    print(temp.node, end=\" \")\n",
    "    temp = temp.next"
   ]
  },
  {
   "cell_type": "code",
   "execution_count": null,
   "metadata": {},
   "outputs": [],
   "source": []
  }
 ],
 "metadata": {
  "kernelspec": {
   "display_name": "HackerRank",
   "language": "python",
   "name": "python3"
  },
  "language_info": {
   "codemirror_mode": {
    "name": "ipython",
    "version": 3
   },
   "file_extension": ".py",
   "mimetype": "text/x-python",
   "name": "python",
   "nbconvert_exporter": "python",
   "pygments_lexer": "ipython3",
   "version": "3.8.8"
  }
 },
 "nbformat": 4,
 "nbformat_minor": 2
}
