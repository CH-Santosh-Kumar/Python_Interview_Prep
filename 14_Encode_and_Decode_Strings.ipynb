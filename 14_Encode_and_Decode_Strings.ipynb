{
 "cells": [
  {
   "cell_type": "markdown",
   "metadata": {},
   "source": [
    "# Problem 14: Encode and Decode Strings\n",
    "### Design an algorithm to encode a list of strings to a string. The encoded string is then sent over the network and is decoded back to the original list of strings.\n",
    "\n",
    "## Leetcode URL: https://leetcode.com/problems/encode-and-decode-strings/"
   ]
  },
  {
   "cell_type": "code",
   "execution_count": 16,
   "metadata": {},
   "outputs": [
    {
     "data": {
      "text/plain": [
       "['lint', 'code', 'love', 'you']"
      ]
     },
     "execution_count": 16,
     "metadata": {},
     "output_type": "execute_result"
    }
   ],
   "source": [
    "class Solution:\n",
    "\n",
    "    \"\"\"\n",
    "    As part of below solition we are expected to write a code to encode as well as decode the list of strings\n",
    "    in order to encode we could give a seperator in between words in our case it would be length of the string and a character.\n",
    "    While decoding based on the length we will select string from the fetched indexes.\n",
    "\n",
    "    Input: List/String\n",
    "    Output: List\n",
    "    Time Complexity: O(n)\n",
    "    Space Complexity: O(n)\n",
    "    \"\"\"\n",
    "    \n",
    "    def encode(self,strs):\n",
    "        t = ''\n",
    "        for s in strs:\n",
    "            t += str(len(s)) + \";\" + s\n",
    "        return t\n",
    "\n",
    "    def decode(self, str):\n",
    "\n",
    "        res,i = [],0\n",
    "\n",
    "        while i < len(str):\n",
    "            j = i\n",
    "            while str[j] != ';':\n",
    "                j+=1\n",
    "            length = str[i:j]\n",
    "            res.append(str[j+1:j+1+int(length)])\n",
    "            i = j+1+int(length) \n",
    "    \n",
    "        return res\n",
    "    \n",
    "\n",
    "strs = [\"lint\",\"code\",\"love\",\"you\"]\n",
    "obj = Solution()\n",
    "t = obj.encode(strs)\n",
    "obj.decode(t)\n"
   ]
  },
  {
   "cell_type": "code",
   "execution_count": null,
   "metadata": {},
   "outputs": [],
   "source": []
  }
 ],
 "metadata": {
  "kernelspec": {
   "display_name": "HackerRank",
   "language": "python",
   "name": "python3"
  },
  "language_info": {
   "codemirror_mode": {
    "name": "ipython",
    "version": 3
   },
   "file_extension": ".py",
   "mimetype": "text/x-python",
   "name": "python",
   "nbconvert_exporter": "python",
   "pygments_lexer": "ipython3",
   "version": "3.8.8"
  }
 },
 "nbformat": 4,
 "nbformat_minor": 2
}
