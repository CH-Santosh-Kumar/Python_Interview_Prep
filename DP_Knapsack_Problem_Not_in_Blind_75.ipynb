{
 "cells": [
  {
   "cell_type": "markdown",
   "metadata": {},
   "source": [
    "# Introduction to Knapsack Problem, its Types"
   ]
  },
  {
   "cell_type": "markdown",
   "metadata": {},
   "source": [
    "### Given a bag with maximum weight capacity of W and a set of items, each having a weight and a value associated with it. Decide the number of each item to take in a collection such that the total weight is less than the capacity and the total value is maximized."
   ]
  },
  {
   "cell_type": "markdown",
   "metadata": {},
   "source": [
    "### Types of Knapsack problem\n",
    "### 1. 01 Knapsack Problem\n",
    "### 2. Fractional Knapsack Problem\n",
    "### 3. Unbound Knapsack Problem"
   ]
  },
  {
   "cell_type": "markdown",
   "metadata": {},
   "source": [
    "## 01 Knapsack Problem"
   ]
  },
  {
   "cell_type": "markdown",
   "metadata": {},
   "source": [
    "### Given N items where each item has some weight and profit associated with it and also given a bag with capacity W, [i.e., the bag can hold at most W weight in it]. The task is to put the items into the bag such that the sum of profits associated with them is the maximum possible. \n",
    "\n",
    "### Note: The constraint here is we can either put an item completely into the bag or cannot put it at all [It is not possible to put a part of an item into the bag]."
   ]
  },
  {
   "cell_type": "code",
   "execution_count": 11,
   "metadata": {},
   "outputs": [
    {
     "data": {
      "text/plain": [
       "220"
      ]
     },
     "execution_count": 11,
     "metadata": {},
     "output_type": "execute_result"
    }
   ],
   "source": [
    "def knapsack(profit,weight,w,n):\n",
    "\n",
    "    if n == 0 or w == 0:\n",
    "        return 0\n",
    "    \n",
    "    if weight[n-1] <= w:\n",
    "        return max( profit[n-1] + knapsack(profit,weight,w-weight[n-1],n-1), \\\n",
    "                   knapsack(profit,weight,w,n-1))\n",
    "    elif weight[n-1] > w:\n",
    "        return knapsack(profit,weight,w,n-1)\n",
    "\n",
    "\n",
    "profit = [60, 100, 120]\n",
    "weight = [10, 20, 30]\n",
    "w = 50\n",
    "n = len(profit)\n",
    "\n",
    "knapsack(profit,weight,w,n)"
   ]
  },
  {
   "cell_type": "markdown",
   "metadata": {},
   "source": [
    "### 0/1 Knapsack using Memoisation\n",
    "\n",
    "### In the memoisation technique we will be adding a cache (in this case a metrix) which will store all the values we have already identified. "
   ]
  },
  {
   "cell_type": "code",
   "execution_count": 30,
   "metadata": {},
   "outputs": [
    {
     "data": {
      "text/plain": [
       "220"
      ]
     },
     "execution_count": 30,
     "metadata": {},
     "output_type": "execute_result"
    }
   ],
   "source": [
    "def knapsack(profit,weight,w,n):\n",
    "    # Initializing dp metrics\n",
    "    dp = [[-1]*(w+1)]*(n+1)\n",
    "\n",
    "    def recursive(profit,weight,w,n):\n",
    "\n",
    "        if n == 0 or w == 0:\n",
    "            return 0\n",
    "        \n",
    "        if dp[n][w] != -1:\n",
    "            return dp[n][w]\n",
    "\n",
    "        if weight[n-1] <= w:\n",
    "\n",
    "            dp[n][w] = max(profit[n-1]+ recursive(profit,weight,w-weight[n-1],n-1), \\\n",
    "                          recursive(profit,weight,w,n-1))\n",
    "            return dp[n][w]\n",
    "        else:\n",
    "            dp[n][w] = recursive(profit,weight,w,n-1)\n",
    "            return dp[n][w]\n",
    "    \n",
    "    return recursive(profit,weight,w,n)\n",
    "\n",
    "profit = [60, 100, 120]\n",
    "weight = [10, 20, 30]\n",
    "w = 50\n",
    "n = len(profit)\n",
    "\n",
    "knapsack(profit,weight,w,n)"
   ]
  },
  {
   "cell_type": "code",
   "execution_count": 32,
   "metadata": {},
   "outputs": [
    {
     "data": {
      "text/plain": [
       "220"
      ]
     },
     "execution_count": 32,
     "metadata": {},
     "output_type": "execute_result"
    }
   ],
   "source": [
    "def knapsack(profit,weight,w):\n",
    "\n",
    "    n = len(profit)\n",
    "\n",
    "    dp = [[0 for x in range(w + 1)] for x in range(n + 1)]\n",
    "\n",
    "    for i in range(1,n+1):\n",
    "        for j in range(1,w+1):\n",
    "            if weight[i-1] <= j: \n",
    "                dp[i][j] = max( profit[i-1] + dp[i-1][j-weight[i-1]], dp[i-1][j] )\n",
    "            else:\n",
    "                dp[i][j] = dp[i-1][j]\n",
    "    \n",
    "    return dp[n][w]\n",
    "\n",
    "profit = [60, 100, 120]\n",
    "weight = [10, 20, 30]\n",
    "w = 50\n",
    "\n",
    "knapsack(profit,weight,w)"
   ]
  }
 ],
 "metadata": {
  "kernelspec": {
   "display_name": "HackerRank",
   "language": "python",
   "name": "python3"
  },
  "language_info": {
   "codemirror_mode": {
    "name": "ipython",
    "version": 3
   },
   "file_extension": ".py",
   "mimetype": "text/x-python",
   "name": "python",
   "nbconvert_exporter": "python",
   "pygments_lexer": "ipython3",
   "version": "3.8.8"
  }
 },
 "nbformat": 4,
 "nbformat_minor": 2
}
