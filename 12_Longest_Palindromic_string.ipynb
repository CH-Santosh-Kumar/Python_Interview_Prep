{
 "cells": [
  {
   "cell_type": "markdown",
   "metadata": {},
   "source": [
    "# Problem 12: Longaest Palindromic SubString\n",
    "\n",
    "### Given a string s, return the longest  palindromic substring in s.\n",
    "\n",
    "## Leetcode URL: https://leetcode.com/problems/longest-palindromic-substring/description/"
   ]
  },
  {
   "cell_type": "code",
   "execution_count": 30,
   "metadata": {},
   "outputs": [
    {
     "data": {
      "text/plain": [
       "'aaaa'"
      ]
     },
     "execution_count": 30,
     "metadata": {},
     "output_type": "execute_result"
    }
   ],
   "source": [
    "def longestPalindrome(s: str):\n",
    "    \"\"\"\n",
    "    Problem asks us to find the longest palindrome substring from a given string. \n",
    "    As per brute force approach we could iterate through each character using first for loop and iterate through \n",
    "    remaining characters using second. Check if the current substring is a palindrome or not and save it a variable res.\n",
    "\n",
    "    In this approach the time complexity would be O(n3) because we will be iterating through the string n times and then to\n",
    "    check if the substring is palindrome again we have to consume n2 time\n",
    "\n",
    "    Below approach could solve that.  \n",
    "    \n",
    "    Below method follows a concept where we would start from a character and expand the left and right idexes keeping \n",
    "    the current character as center to check if the substring is palindrome or not.\n",
    "    Time complexity for this approach is O(n2)\n",
    "\n",
    "    Input : String\n",
    "    Result:  String\n",
    "    \n",
    "    \"\"\"\n",
    "    res = \"\"\n",
    "    resLen = 0\n",
    "\n",
    "    for i in range(len(s)):\n",
    "\n",
    "        # For Odd length\n",
    "        l,r = i,i\n",
    "        while l >=0 and r < len(s) and s[l] == s[r]:\n",
    "\n",
    "            if (r-l+1) > resLen:\n",
    "                res = s[l:r+1]\n",
    "                resLen = r-l + 1\n",
    "            \n",
    "            l -= 1\n",
    "            r += 1\n",
    "\n",
    "        # For even length\n",
    "        l,r = i,i+1\n",
    "        while l >=0 and r < len(s) and s[l] == s[r]:\n",
    "            if (r-l+1) > resLen:\n",
    "                res = s[l:r+1]\n",
    "                resLen = r-l+1\n",
    "            \n",
    "            l -= 1\n",
    "            r += 1\n",
    "        \n",
    "    return res\n",
    "\n",
    "s = \"aaaa\"\n",
    "\n",
    "longestPalindrome(s)"
   ]
  }
 ],
 "metadata": {
  "kernelspec": {
   "display_name": "HackerRank",
   "language": "python",
   "name": "python3"
  },
  "language_info": {
   "codemirror_mode": {
    "name": "ipython",
    "version": 3
   },
   "file_extension": ".py",
   "mimetype": "text/x-python",
   "name": "python",
   "nbconvert_exporter": "python",
   "pygments_lexer": "ipython3",
   "version": "3.8.8"
  }
 },
 "nbformat": 4,
 "nbformat_minor": 2
}
