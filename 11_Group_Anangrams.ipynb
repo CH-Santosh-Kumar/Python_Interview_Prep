{
 "cells": [
  {
   "cell_type": "markdown",
   "metadata": {},
   "source": [
    "# Problem 49 - Group Anagram\n",
    "### Given an array of strings strs, group the anagrams together. You can return the answer in any order.\n",
    "### An Anagram is a word or phrase formed by rearranging the letters of a different word or phrase, typically using all the original letters exactly once.\n",
    "\n",
    "## Leet Code URL: https://leetcode.com/problems/group-anagrams/description/"
   ]
  },
  {
   "cell_type": "code",
   "execution_count": 12,
   "metadata": {},
   "outputs": [
    {
     "data": {
      "text/plain": [
       "[['']]"
      ]
     },
     "execution_count": 12,
     "metadata": {},
     "output_type": "execute_result"
    }
   ],
   "source": [
    "def groupAnagrams(strs):\n",
    "    \"\"\"\n",
    "    Function returns list of anagrams inside a list from given input.\n",
    "    To solve this we use help of dictionary. Dictioary helps us fetch the value in O(i) time and appending a value to a list\n",
    "    also takes O(1) time . But becaue we are using Sorted function the time complexity would be O(n log(n)) \n",
    "\n",
    "    input : list of strings\n",
    "    Output: List of Lists\n",
    "    \"\"\"\n",
    "    \n",
    "    if len(strs) == 1:\n",
    "        return [strs]\n",
    "    \n",
    "    cache = {}\n",
    "\n",
    "    for i in strs:\n",
    "        sorted_str = ''.join(sorted(list(i)))\n",
    "\n",
    "        if sorted_str not in cache:\n",
    "            cache[sorted_str] = [i]\n",
    "        else:\n",
    "            cache[sorted_str].append(i)\n",
    "    \n",
    "\n",
    "    return [ i for i in cache.values()]\n",
    "\n",
    "#strs = [\"eat\",\"tea\",\"tan\",\"ate\",\"nat\",\"bat\"]\n",
    "strs1 = [\"\"]\n",
    "groupAnagrams(strs1)"
   ]
  },
  {
   "cell_type": "code",
   "execution_count": null,
   "metadata": {},
   "outputs": [],
   "source": []
  }
 ],
 "metadata": {
  "kernelspec": {
   "display_name": "HackerRank",
   "language": "python",
   "name": "python3"
  },
  "language_info": {
   "codemirror_mode": {
    "name": "ipython",
    "version": 3
   },
   "file_extension": ".py",
   "mimetype": "text/x-python",
   "name": "python",
   "nbconvert_exporter": "python",
   "pygments_lexer": "ipython3",
   "version": "3.8.8"
  }
 },
 "nbformat": 4,
 "nbformat_minor": 2
}
