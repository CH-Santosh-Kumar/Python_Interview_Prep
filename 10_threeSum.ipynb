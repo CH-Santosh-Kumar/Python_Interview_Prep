{
 "cells": [
  {
   "cell_type": "code",
   "execution_count": 10,
   "metadata": {},
   "outputs": [
    {
     "name": "stdout",
     "output_type": "stream",
     "text": [
      "[-4, -1, -1, 0, 1, 2]\n"
     ]
    },
    {
     "data": {
      "text/plain": [
       "[[-1, -1, 2], [-1, 0, 1]]"
      ]
     },
     "execution_count": 10,
     "metadata": {},
     "output_type": "execute_result"
    }
   ],
   "source": [
    "nums = [-1,0,1,2,-1,-4]\n",
    "\n",
    "def threesum(nums):\n",
    "\n",
    "    nums = sorted(nums)\n",
    "    print(nums)\n",
    "    result = []\n",
    "    a = 0\n",
    "    while a < len(nums)-1:\n",
    "        l = 1\n",
    "        r =len(nums)-1 \n",
    "        while l < r:\n",
    "            curSum = nums[a] + nums[l] + nums[r]\n",
    "\n",
    "            if curSum < 0:\n",
    "                l+=1\n",
    "            elif curSum > 0:\n",
    "                r -= 1\n",
    "            else:\n",
    "                res = sorted((nums[a], nums[l], nums[r]))\n",
    "                if res not in result:\n",
    "                    result.append(res)\n",
    "                break\n",
    "        a+=1\n",
    "\n",
    "    return result if len(result) != 0 else []\n",
    "\n",
    "threesum(nums)"
   ]
  },
  {
   "cell_type": "code",
   "execution_count": null,
   "metadata": {},
   "outputs": [],
   "source": []
  }
 ],
 "metadata": {
  "kernelspec": {
   "display_name": "HackerRank",
   "language": "python",
   "name": "python3"
  },
  "language_info": {
   "codemirror_mode": {
    "name": "ipython",
    "version": 3
   },
   "file_extension": ".py",
   "mimetype": "text/x-python",
   "name": "python",
   "nbconvert_exporter": "python",
   "pygments_lexer": "ipython3",
   "version": "3.8.8"
  }
 },
 "nbformat": 4,
 "nbformat_minor": 2
}
