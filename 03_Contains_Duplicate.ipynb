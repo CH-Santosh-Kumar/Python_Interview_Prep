{
 "cells": [
  {
   "cell_type": "markdown",
   "metadata": {},
   "source": [
    "# Problem 03. Contains Duplicate\n",
    "### Given an integer array nums, return true if any value appears at least twice in the array, and return false if every element is distinct.\n",
    "\n",
    "### Leetcode Link: https://leetcode.com/problems/contains-duplicate/description/"
   ]
  },
  {
   "cell_type": "code",
   "execution_count": 2,
   "metadata": {},
   "outputs": [
    {
     "data": {
      "text/plain": [
       "False"
      ]
     },
     "execution_count": 2,
     "metadata": {},
     "output_type": "execute_result"
    }
   ],
   "source": [
    "def containsDuplicate(nums):\n",
    "\n",
    "    \"\"\"\n",
    "    Explaination: There are various ways to solve this, but because we are specifically using pythona \n",
    "    and we have collection datatypes available with us we will use set to simplify solution.\n",
    "    input: list of Numbers\n",
    "    Output: Boolean\n",
    "    \"\"\"\n",
    "    nums_set = set(nums)\n",
    "    return False if len(nums) == len(nums_set) else True\n",
    "\n",
    "nums = [1,2,3]\n",
    "containsDuplicate(nums)"
   ]
  },
  {
   "cell_type": "code",
   "execution_count": 4,
   "metadata": {},
   "outputs": [
    {
     "data": {
      "text/plain": [
       "True"
      ]
     },
     "execution_count": 4,
     "metadata": {},
     "output_type": "execute_result"
    }
   ],
   "source": [
    "def containsDuplicate(nums):\n",
    "\n",
    "    \"\"\"\n",
    "    Explaination: Another approach would be to iterate through list and get counts of each value.\n",
    "    At any point if count is greater then 1 we could return True\n",
    "    input: list of Numbers\n",
    "    Output: Boolean\n",
    "    \"\"\"\n",
    "    \n",
    "    for i in nums:\n",
    "        if nums.count(i) > 1:\n",
    "            return True\n",
    "\n",
    "    return False\n",
    "\n",
    "nums = [1,2,3,1]\n",
    "containsDuplicate(nums)"
   ]
  },
  {
   "cell_type": "code",
   "execution_count": null,
   "metadata": {},
   "outputs": [],
   "source": []
  }
 ],
 "metadata": {
  "kernelspec": {
   "display_name": "HackerRank",
   "language": "python",
   "name": "python3"
  },
  "language_info": {
   "codemirror_mode": {
    "name": "ipython",
    "version": 3
   },
   "file_extension": ".py",
   "mimetype": "text/x-python",
   "name": "python",
   "nbconvert_exporter": "python",
   "pygments_lexer": "ipython3",
   "version": "3.8.8"
  }
 },
 "nbformat": 4,
 "nbformat_minor": 2
}
