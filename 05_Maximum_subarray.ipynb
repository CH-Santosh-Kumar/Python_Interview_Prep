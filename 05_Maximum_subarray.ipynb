{
 "cells": [
  {
   "cell_type": "markdown",
   "metadata": {},
   "source": [
    "# Problem 05: Maximum Subarray\n",
    "### Given an integer array nums, find the subarray with the largest sum, and return its sum.\n",
    "\n",
    "### LeetCode URL: https://leetcode.com/problems/maximum-subarray/description/"
   ]
  },
  {
   "cell_type": "code",
   "execution_count": 12,
   "metadata": {},
   "outputs": [
    {
     "data": {
      "text/plain": [
       "23"
      ]
     },
     "execution_count": 12,
     "metadata": {},
     "output_type": "execute_result"
    }
   ],
   "source": [
    "def maxSubArray(nums):\n",
    "\n",
    "    \"\"\"\n",
    "    Code should return the sum of maimum subarray in a given array.\n",
    "    Process: As we want to find the maxium subarray we will first initialize two variables. \n",
    "    1. maximum sum : this variable will hold the maximum subarray at that given point\n",
    "    2. Current Sum: which will hold the sum after each passig iteration\n",
    "    at each step we will check if maxsum is smaller then current sum and we will update the value of max sum.\n",
    "\n",
    "        Input: integer list\n",
    "        Output: integer\n",
    "\n",
    "    \"\"\"\n",
    "    maxSum = nums[0]\n",
    "    curSum = nums[0]\n",
    "\n",
    "    for i in range(1,len(nums)):\n",
    "        curSum = max(curSum+nums[i],nums[i])\n",
    "        maxSum = max(curSum,maxSum)\n",
    "    \n",
    "    return maxSum\n",
    "\n",
    "nums = [5,4,-1,7,8]\n",
    "\n",
    "maxSubArray(nums)"
   ]
  }
 ],
 "metadata": {
  "kernelspec": {
   "display_name": "HackerRank",
   "language": "python",
   "name": "python3"
  },
  "language_info": {
   "codemirror_mode": {
    "name": "ipython",
    "version": 3
   },
   "file_extension": ".py",
   "mimetype": "text/x-python",
   "name": "python",
   "nbconvert_exporter": "python",
   "pygments_lexer": "ipython3",
   "version": "3.8.8"
  }
 },
 "nbformat": 4,
 "nbformat_minor": 2
}
