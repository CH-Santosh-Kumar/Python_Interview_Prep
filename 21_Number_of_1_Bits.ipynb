{
 "cells": [
  {
   "cell_type": "markdown",
   "metadata": {},
   "source": [
    "# Problem : Number of 1 Bits\n",
    "### Write a function that takes the binary representation of an unsigned integer and returns the number of '1' bits it has (also known as the Hamming weight).\n",
    "\n",
    "## LeetCode: https://leetcode.com/problems/number-of-1-bits/description/"
   ]
  },
  {
   "cell_type": "code",
   "execution_count": 10,
   "metadata": {},
   "outputs": [
    {
     "data": {
      "text/plain": [
       "31"
      ]
     },
     "execution_count": 10,
     "metadata": {},
     "output_type": "execute_result"
    }
   ],
   "source": [
    "def hammingWeight(n):\n",
    "    '''\n",
    "    As part of this code we want to identify all the 1's in a binary input. To identify 1's\n",
    "    we will find modulo operator. number % 2 will result 1 or 0. and in any case would use this to\n",
    "    count number of 1's in the number and then right shift the number to check further 1s in the number\n",
    "\n",
    "    Args:\n",
    "    a. int\n",
    "    b. int \n",
    "    '''\n",
    "    res = 0\n",
    "\n",
    "    while n:\n",
    "\n",
    "        res += n%2\n",
    "        n = n>>1\n",
    "    \n",
    "    return res\n",
    "\n",
    "hammingWeight(4294967293)"
   ]
  },
  {
   "cell_type": "code",
   "execution_count": 9,
   "metadata": {},
   "outputs": [
    {
     "name": "stdout",
     "output_type": "stream",
     "text": [
      "4294967293\n"
     ]
    }
   ],
   "source": []
  },
  {
   "cell_type": "code",
   "execution_count": null,
   "metadata": {},
   "outputs": [],
   "source": []
  }
 ],
 "metadata": {
  "kernelspec": {
   "display_name": "HackerRank",
   "language": "python",
   "name": "python3"
  },
  "language_info": {
   "codemirror_mode": {
    "name": "ipython",
    "version": 3
   },
   "file_extension": ".py",
   "mimetype": "text/x-python",
   "name": "python",
   "nbconvert_exporter": "python",
   "pygments_lexer": "ipython3",
   "version": "3.8.8"
  }
 },
 "nbformat": 4,
 "nbformat_minor": 2
}
