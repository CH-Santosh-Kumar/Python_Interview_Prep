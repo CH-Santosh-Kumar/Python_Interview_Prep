{
 "cells": [
  {
   "cell_type": "markdown",
   "metadata": {},
   "source": [
    "# Problem 13: Palindromic Substring\n",
    "### Given a string s, return the number of palindromic substrings in it. A string is a palindrome when it reads the same backward as forward. A substring is a contiguous sequence of characters within the string.\n",
    "\n",
    "### Leetcode URL: https://leetcode.com/problems/palindromic-substrings/description/"
   ]
  },
  {
   "cell_type": "code",
   "execution_count": 6,
   "metadata": {},
   "outputs": [
    {
     "data": {
      "text/plain": [
       "6"
      ]
     },
     "execution_count": 6,
     "metadata": {},
     "output_type": "execute_result"
    }
   ],
   "source": [
    "def countSubstrings(s):\n",
    "    \n",
    "    \"\"\"\n",
    "    We need to provide the counts of all the palindromic substrings from a given string.\n",
    "    The approach would be same like we did for Longest Palindromic string problem. But the only difference\n",
    "    would be just adding the count to result variable instead of checking if the substring is longest or not.\n",
    "\n",
    "    Input: String\n",
    "    Output: Int\n",
    "\n",
    "    Time Copmplexity: Same as before O(n2)\n",
    "    \"\"\"\n",
    "    res = 0\n",
    "    \n",
    "    for i in range(len(s)):\n",
    "\n",
    "        l,r = i, i\n",
    "\n",
    "        while l >= 0 and r < len(s) and s[l] == s[r]:\n",
    "            res += 1\n",
    "            l -= 1\n",
    "            r += 1\n",
    "\n",
    "        l,r = i,i+1\n",
    "\n",
    "        while l >= 0 and r < len(s) and s[l] == s[r]:\n",
    "            res += 1\n",
    "            l -= 1\n",
    "            r += 1\n",
    "    \n",
    "    return res\n",
    "\n",
    "\n",
    "s = \"aaa\"\n",
    "\n",
    "countSubstrings(s)"
   ]
  },
  {
   "cell_type": "code",
   "execution_count": null,
   "metadata": {},
   "outputs": [],
   "source": []
  }
 ],
 "metadata": {
  "kernelspec": {
   "display_name": "HackerRank",
   "language": "python",
   "name": "python3"
  },
  "language_info": {
   "codemirror_mode": {
    "name": "ipython",
    "version": 3
   },
   "file_extension": ".py",
   "mimetype": "text/x-python",
   "name": "python",
   "nbconvert_exporter": "python",
   "pygments_lexer": "ipython3",
   "version": "3.8.8"
  }
 },
 "nbformat": 4,
 "nbformat_minor": 2
}
