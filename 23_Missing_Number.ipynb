{
 "cells": [
  {
   "cell_type": "markdown",
   "metadata": {},
   "source": [
    "# Problem 23 : Missing Number\n",
    "### Given an array nums containing n distinct numbers in the range [0, n], return the only number in the range that is missing from the array.\n",
    "\n",
    "## LeetCode URL: https://leetcode.com/problems/missing-number/description/"
   ]
  },
  {
   "cell_type": "code",
   "execution_count": 6,
   "metadata": {},
   "outputs": [
    {
     "data": {
      "text/plain": [
       "8"
      ]
     },
     "execution_count": 6,
     "metadata": {},
     "output_type": "execute_result"
    }
   ],
   "source": [
    "def missingNumber(nums):\n",
    "    '''\n",
    "    program wants us to find missing number of from a list where nums are just numbers from range 0 to n.\n",
    "    Below code is just a basic way of finding the missing number where we find total sum of numbers in that range and \n",
    "    substract that from sum of our list. There should be a better approach to solve this.\n",
    "    Lets explore that\n",
    "    '''\n",
    "    sumNums = sum(nums)\n",
    "    sumAll = sum(range(len(nums)+1))\n",
    "    return sumAll-sumNums\n",
    "\n",
    "nums = [9,6,4,2,3,5,7,0,1]\n",
    "missingNumber(nums)"
   ]
  },
  {
   "cell_type": "code",
   "execution_count": 7,
   "metadata": {},
   "outputs": [
    {
     "data": {
      "text/plain": [
       "8"
      ]
     },
     "execution_count": 7,
     "metadata": {},
     "output_type": "execute_result"
    }
   ],
   "source": [
    "def missingNumber(nums):\n",
    "    '''\n",
    "    We will be usning binary method to code it up now. Basically the concept is\n",
    "    if we perform on xor of two similar numbers answer is 0 and if we do xor with three numbers in a list\n",
    "    answer would be the number which is not similar. So =5^3^5 will yield 3.\n",
    "\n",
    "    so we will append a range of numbers from 0 to n to the input list which is missing number.\n",
    "    then we will xor the list with 0. So all the elements which are duplicate will yield 0 and only\n",
    "    number which is missing will have only one entry and will be the saved in result.\n",
    "\n",
    "    Args:\n",
    "    a.list\n",
    "\n",
    "    Output:\n",
    "    integer\n",
    "    '''\n",
    "\n",
    "    nums = nums + list(range(len(nums)+1))\n",
    "    ans = 0\n",
    "    for i in nums:\n",
    "        ans^= i\n",
    "\n",
    "    return ans\n",
    "\n",
    "nums = [9,6,4,2,3,5,7,0,1]\n",
    "missingNumber(nums)"
   ]
  },
  {
   "cell_type": "code",
   "execution_count": null,
   "metadata": {},
   "outputs": [],
   "source": []
  }
 ],
 "metadata": {
  "kernelspec": {
   "display_name": "HackerRank",
   "language": "python",
   "name": "python3"
  },
  "language_info": {
   "codemirror_mode": {
    "name": "ipython",
    "version": 3
   },
   "file_extension": ".py",
   "mimetype": "text/x-python",
   "name": "python",
   "nbconvert_exporter": "python",
   "pygments_lexer": "ipython3",
   "version": "3.8.8"
  }
 },
 "nbformat": 4,
 "nbformat_minor": 2
}
