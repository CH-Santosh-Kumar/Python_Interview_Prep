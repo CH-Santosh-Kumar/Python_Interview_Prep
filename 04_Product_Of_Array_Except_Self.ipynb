{
 "cells": [
  {
   "cell_type": "markdown",
   "metadata": {},
   "source": [
    "# Problem 04: Product of Array except self\n",
    "### Given an integer array nums, return an array answer such that answer[i] is equal to the product of all the elements of nums except nums[i].\n",
    "### The product of any prefix or suffix of nums is guaranteed to fit in a 32-bit integer.\n",
    "### You must write an algorithm that runs in O(n) time and without using the division operation.\n",
    "\n",
    "### Leet Code URL: https://leetcode.com/problems/product-of-array-except-self/description/"
   ]
  },
  {
   "cell_type": "code",
   "execution_count": 7,
   "metadata": {},
   "outputs": [
    {
     "data": {
      "text/plain": [
       "[0, 0, 9, 0, 0]"
      ]
     },
     "execution_count": 7,
     "metadata": {},
     "output_type": "execute_result"
    }
   ],
   "source": [
    "def productExceptSelf(nums):\n",
    "    \n",
    "    \"\"\"\n",
    "    Method 1\n",
    "    Returns list with product of all other elements in the input list except self.\n",
    "    Process: Below method uses two for loops to iterate through nums and skip the current element.\n",
    "    This process will yield result in O(n2) time complexity because of two loops.\n",
    "    Parameters:\n",
    "        Input: integer list\n",
    "        Output: integer list \n",
    "    \"\"\"\n",
    "    \n",
    "    result = []\n",
    "    \n",
    "    for i in nums:\n",
    "        product = 1\n",
    "        for j in nums:\n",
    "            if j == i:\n",
    "                continue\n",
    "            else:\n",
    "                product *= j\n",
    "        result.append(product)\n",
    "\n",
    "    return result\n",
    "nums = [-1,1,0,-3,3]\n",
    "\n",
    "productExceptSelf(nums)"
   ]
  },
  {
   "cell_type": "code",
   "execution_count": 12,
   "metadata": {},
   "outputs": [
    {
     "data": {
      "text/plain": [
       "[0, 0, 9, 0, 0]"
      ]
     },
     "execution_count": 12,
     "metadata": {},
     "output_type": "execute_result"
    }
   ],
   "source": [
    "def productExceptSelf(nums):\n",
    "    \n",
    "    \"\"\"\n",
    "    Method 2\n",
    "    Returns list with product of all other elements in the input list except self.\n",
    "    Process: In order to avoid nested loops we are using a seperate function to get the product \n",
    "    of left and right of current index. Then multiplying both to yield results. This will again result in \n",
    "    time complexity of O(n2)\n",
    "    Parameters:\n",
    "        Input: integer list\n",
    "        Output: integer list \n",
    "    \"\"\"\n",
    "    def product(num_list):\n",
    "        prod = 1\n",
    "        for i in num_list:\n",
    "            prod *= i\n",
    "        return prod\n",
    "\n",
    "    result = []\n",
    "\n",
    "    for i in range(len(nums)):\n",
    "        left = product(nums[:i])\n",
    "        right = product(nums[i+1:])\n",
    "        result.append(left*right)\n",
    "    \n",
    "    return result\n",
    "nums = [-1,1,0,-3,3]\n",
    "\n",
    "productExceptSelf(nums)"
   ]
  },
  {
   "cell_type": "code",
   "execution_count": 22,
   "metadata": {},
   "outputs": [
    {
     "name": "stdout",
     "output_type": "stream",
     "text": [
      "[-1, -1, 0, 0, 0] [0, 0, 0, -9, 3]\n"
     ]
    },
    {
     "data": {
      "text/plain": [
       "[0, 0, 9, 0, 0]"
      ]
     },
     "execution_count": 22,
     "metadata": {},
     "output_type": "execute_result"
    }
   ],
   "source": [
    "def productExceptSelf(nums):\n",
    "    \n",
    "    \"\"\"\n",
    "    Method 3\n",
    "    Returns list with product of all other elements in the input list except self.\n",
    "    Process: Goal over here is to get the product of array without using division operator and \n",
    "    finding a linear solution. We could achieve that by first finding all the prefix and postfix products\n",
    "    and then multiplying then for each element\n",
    "    Parameters:\n",
    "        Input: integer list\n",
    "        Output: integer list \n",
    "    \"\"\"\n",
    "    result = [0]*len(nums)\n",
    "    prefix_result = [0]*len(nums)\n",
    "    postfix_result = [0]*len(nums)\n",
    "    prefix_product = 1\n",
    "    postfix_product = 1\n",
    "\n",
    "    for i in range(len(nums)):\n",
    "        prefix_product *= nums[i]\n",
    "        prefix_result[i] = prefix_product\n",
    "    \n",
    "    for i in range(len(nums)-1,-1,-1):\n",
    "        postfix_product*= nums[i]\n",
    "        postfix_result[i] = postfix_product\n",
    "\n",
    "    for i in range(len(nums)):\n",
    "        if i-1 < 0:\n",
    "            result[i] = postfix_result[i+1]\n",
    "        elif i+1 >= len(nums):\n",
    "            result[i] = prefix_result[i-1]\n",
    "        else:\n",
    "            result[i] = prefix_result[i-1]*postfix_result[i+1]\n",
    "\n",
    "    print(prefix_result,postfix_result)\n",
    "\n",
    "    return result\n",
    "nums = [-1,1,0,-3,3]\n",
    "\n",
    "productExceptSelf(nums)"
   ]
  },
  {
   "cell_type": "code",
   "execution_count": 24,
   "metadata": {},
   "outputs": [
    {
     "data": {
      "text/plain": [
       "[24, 12, 8, 6]"
      ]
     },
     "execution_count": 24,
     "metadata": {},
     "output_type": "execute_result"
    }
   ],
   "source": [
    "def productExceptSelf(nums):\n",
    "    \n",
    "    \"\"\"\n",
    "    Method 4\n",
    "    Returns list with product of all other elements in the input list except self.\n",
    "    Process: Just to increase the readability and reduce redundant lines of code. We could combine both prefix and postfix multiplications \n",
    "    into two seperate loops \n",
    "    Parameters:\n",
    "        Input: integer list\n",
    "        Output: integer list \n",
    "    \"\"\"\n",
    "    \n",
    "    n = len(nums)\n",
    "    result = [1]*n\n",
    "\n",
    "    # Getting prefix result and saving it in result list\n",
    "    prefix_product = 1\n",
    "    for i in range(n):\n",
    "        result[i]*= prefix_product\n",
    "        prefix_product*= nums[i]\n",
    "    \n",
    "    # Getting postfix result and saving it in same result list as we go\n",
    "    postfix_product = 1\n",
    "    for i in range(n-1,-1,-1):\n",
    "        result[i] *= postfix_product\n",
    "        postfix_product*= nums[i]\n",
    "\n",
    "    return result\n",
    "nums = [1,2,3,4]\n",
    "\n",
    "productExceptSelf(nums)"
   ]
  },
  {
   "cell_type": "code",
   "execution_count": null,
   "metadata": {},
   "outputs": [],
   "source": []
  }
 ],
 "metadata": {
  "kernelspec": {
   "display_name": "HackerRank",
   "language": "python",
   "name": "python3"
  },
  "language_info": {
   "codemirror_mode": {
    "name": "ipython",
    "version": 3
   },
   "file_extension": ".py",
   "mimetype": "text/x-python",
   "name": "python",
   "nbconvert_exporter": "python",
   "pygments_lexer": "ipython3",
   "version": "3.8.8"
  }
 },
 "nbformat": 4,
 "nbformat_minor": 2
}
