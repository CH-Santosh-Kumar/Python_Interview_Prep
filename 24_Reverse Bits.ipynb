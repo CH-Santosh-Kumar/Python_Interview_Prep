{
 "cells": [
  {
   "cell_type": "markdown",
   "metadata": {},
   "source": [
    "# Problem : Reverse Bits\n",
    "### Reverse bits of a given 32 bits unsigned integer\n",
    "## LeetCode URL: https://leetcode.com/problems/reverse-bits/description/"
   ]
  },
  {
   "cell_type": "code",
   "execution_count": 5,
   "metadata": {},
   "outputs": [
    {
     "data": {
      "text/plain": [
       "964176192"
      ]
     },
     "execution_count": 5,
     "metadata": {},
     "output_type": "execute_result"
    }
   ],
   "source": [
    "def reverseBits(n):\n",
    "    '''\n",
    "    Program wnts us to reverse bits. We could do that the way we identified the number of 1s in out binary\n",
    "    we will check the mod of number if its 1 or 0 we will add that to our res string. We need to do this\n",
    "    till our result set is 32 bit long.\n",
    "    '''\n",
    "\n",
    "    res = ''\n",
    "\n",
    "    while len(res) < 32:\n",
    "        res += str(n%2)\n",
    "        n = n >> 1\n",
    "    \n",
    "    return int(res,2)\n",
    "\n",
    "n = int('00000010100101000001111010011100',2)\n",
    "\n",
    "reverseBits(n)"
   ]
  },
  {
   "cell_type": "code",
   "execution_count": null,
   "metadata": {},
   "outputs": [],
   "source": []
  }
 ],
 "metadata": {
  "kernelspec": {
   "display_name": "HackerRank",
   "language": "python",
   "name": "python3"
  },
  "language_info": {
   "codemirror_mode": {
    "name": "ipython",
    "version": 3
   },
   "file_extension": ".py",
   "mimetype": "text/x-python",
   "name": "python",
   "nbconvert_exporter": "python",
   "pygments_lexer": "ipython3",
   "version": "3.8.8"
  }
 },
 "nbformat": 4,
 "nbformat_minor": 2
}
